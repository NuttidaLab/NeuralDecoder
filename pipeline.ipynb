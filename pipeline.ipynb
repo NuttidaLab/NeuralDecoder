{
 "cells": [
  {
   "cell_type": "code",
   "execution_count": 44,
   "metadata": {},
   "outputs": [],
   "source": [
    "data = RNNs(data_dir='data/baseline').get_dataloader(batch_size=None, shuffle=False, num_workers=0)"
   ]
  },
  {
   "cell_type": "code",
   "execution_count": 45,
   "metadata": {},
   "outputs": [
    {
     "name": "stdout",
     "output_type": "stream",
     "text": [
      "0 torch.Size([4, 50, 200, 300]) torch.Size([4, 50])\n"
     ]
    }
   ],
   "source": [
    "for idx, (x,y) in enumerate(data):\n",
    "    print(idx, x.shape, y.shape)\n",
    "    break"
   ]
  },
  {
   "cell_type": "code",
   "execution_count": null,
   "metadata": {},
   "outputs": [],
   "source": []
  },
  {
   "cell_type": "code",
   "execution_count": 44,
   "metadata": {},
   "outputs": [
    {
     "name": "stdout",
     "output_type": "stream",
     "text": [
      "Network: 0 (200, 300) (200,)\n",
      "Network: 1 (200, 300) (200,)\n",
      "Network: 2 (200, 300) (200,)\n",
      "Network: 3 (200, 300) (200,)\n"
     ]
    }
   ],
   "source": [
    "from RepKit.dataset import rnn\n",
    "networks = rnn.flow(\"data/baseline/\", preprocess=\"avg_neurons\")\n",
    "for idx, (x,y) in enumerate(networks): print(\"Network:\", idx, x.shape, y.shape)"
   ]
  },
  {
   "cell_type": "code",
   "execution_count": 51,
   "metadata": {},
   "outputs": [
    {
     "name": "stdout",
     "output_type": "stream",
     "text": [
      "(2, 200, 300)\n",
      "(2, 200, 300)\n",
      "(2, 200, 300)\n",
      "(2, 200, 300)\n",
      "(2, 200, 300)\n",
      "(2, 200, 300)\n"
     ]
    }
   ],
   "source": [
    "from scipy.spatial.distance import pdist\n",
    "import numpy as np\n",
    "import itertools\n",
    "\n",
    "distances = np.zeros((4, 4))\n",
    "for i,j in itertools.combinations(range(len(networks)), 2):\n",
    "    nx_i, _ = networks[i]\n",
    "    nx_j, _ = networks[j]\n",
    "    print(np.stack([nx_i, nx_j]).shape)\n",
    "    samplewise_dists = []\n",
    "    for id_sample in range(len(nx_i)):\n",
    "        samplewise_dists.append(pdist(np.stack([nx_i[id_sample], nx_j[id_sample]]), metric='cosine'))\n",
    "    distances[i, j] = np.mean(samplewise_dists)\n",
    "    distances += distances.T"
   ]
  },
  {
   "cell_type": "code",
   "execution_count": 46,
   "metadata": {},
   "outputs": [
    {
     "data": {
      "text/plain": [
       "array([[  0.        , 378.5062596 , 455.61639072, 104.57892124],\n",
       "       [378.5062596 ,   0.        ,  88.41564989,  21.78595439],\n",
       "       [455.61639072,  88.41564989,   0.        ,  21.41016195],\n",
       "       [104.57892124,  21.78595439,  21.41016195,   0.        ]])"
      ]
     },
     "execution_count": 46,
     "metadata": {},
     "output_type": "execute_result"
    }
   ],
   "source": [
    "distances"
   ]
  },
  {
   "cell_type": "code",
   "execution_count": 52,
   "metadata": {},
   "outputs": [
    {
     "data": {
      "text/plain": [
       "array([[0.        , 0.13414309, 0.07584632, 0.04023437],\n",
       "       [0.13414309, 0.        , 0.01378059, 0.00726273],\n",
       "       [0.07584632, 0.01378059, 0.        , 0.00212688],\n",
       "       [0.04023437, 0.00726273, 0.00212688, 0.        ]])"
      ]
     },
     "execution_count": 52,
     "metadata": {},
     "output_type": "execute_result"
    }
   ],
   "source": [
    "# Cosine\n",
    "distances"
   ]
  },
  {
   "cell_type": "code",
   "execution_count": null,
   "metadata": {},
   "outputs": [],
   "source": []
  },
  {
   "cell_type": "code",
   "execution_count": null,
   "metadata": {},
   "outputs": [],
   "source": []
  },
  {
   "cell_type": "code",
   "execution_count": null,
   "metadata": {},
   "outputs": [],
   "source": []
  },
  {
   "cell_type": "code",
   "execution_count": null,
   "metadata": {},
   "outputs": [],
   "source": []
  },
  {
   "cell_type": "code",
   "execution_count": null,
   "metadata": {},
   "outputs": [],
   "source": [
    "from RepKit.spaces import SampleSpace\n",
    "from RepKit.spaces import ClassSpace\n",
    "from RepKit.spaces import ModelSpace\n",
    "\n",
    "from decoder.data import Dataset\n",
    "\n",
    "\n",
    "\n",
    "data = DataLoader(\"data/\")\n",
    "space = SampleSpace(metric = \"euclidean\")\n",
    "space.measure(data)"
   ]
  }
 ],
 "metadata": {
  "kernelspec": {
   "display_name": "decoder",
   "language": "python",
   "name": "python3"
  },
  "language_info": {
   "codemirror_mode": {
    "name": "ipython",
    "version": 3
   },
   "file_extension": ".py",
   "mimetype": "text/x-python",
   "name": "python",
   "nbconvert_exporter": "python",
   "pygments_lexer": "ipython3",
   "version": "3.11.3"
  },
  "orig_nbformat": 4
 },
 "nbformat": 4,
 "nbformat_minor": 2
}

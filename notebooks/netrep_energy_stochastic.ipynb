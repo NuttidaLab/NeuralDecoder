{
 "cells": [
  {
   "cell_type": "code",
   "execution_count": 13,
   "metadata": {},
   "outputs": [],
   "source": [
    "import sys  \n",
    "sys.path.insert(0, r'C:\\Users\\monac\\Documents\\GitHub\\RSA_Investigations')"
   ]
  },
  {
   "cell_type": "code",
   "execution_count": 14,
   "metadata": {},
   "outputs": [],
   "source": [
    "from inspector import Metric\n",
    "from inspector.utility import plot_distmat\n",
    "\n",
    "from netrep.metrics.stochastic import EnergyStochasticMetric\n",
    "from netrep.multiset import pairwise_distances\n",
    "\n",
    "import numpy as np\n",
    "import sklearn.datasets"
   ]
  },
  {
   "cell_type": "code",
   "execution_count": 15,
   "metadata": {},
   "outputs": [],
   "source": [
    "class SyntheticNetworks():\n",
    "    def __init__(self) -> None:\n",
    "        pass\n",
    "\n",
    "    def generate(self, networks = 3, n_samples = 500, n_classes = 4, n_features = 2):\n",
    "        # seed = 42069\n",
    "        # rng = np.random.default_rng(seed)\n",
    "\n",
    "        X , y = [], []\n",
    "\n",
    "        for i in range(networks):\n",
    "            # Generate a new dataset\n",
    "            _X, _y = sklearn.datasets.make_classification(\n",
    "                n_samples=n_samples, \n",
    "                n_features=n_features,\n",
    "                n_informative=n_features, # Meaning: all features are informative (no redundant or repeated features)\n",
    "                n_redundant=0, # Meaning: no redundant features\n",
    "                n_repeated=0, # Meaning: no repeated features\n",
    "                n_classes=n_classes,\n",
    "                n_clusters_per_class=1, # Meaning: each class is a single cluster\n",
    "                # random_state=seed,\n",
    "            )\n",
    "            X.append(_X)\n",
    "            y.append(_y)\n",
    "\n",
    "        return X, y"
   ]
  },
  {
   "cell_type": "code",
   "execution_count": 16,
   "metadata": {},
   "outputs": [
    {
     "ename": "NameError",
     "evalue": "name 'ESM' is not defined",
     "output_type": "error",
     "traceback": [
      "\u001b[1;31m---------------------------------------------------------------------------\u001b[0m",
      "\u001b[1;31mNameError\u001b[0m                                 Traceback (most recent call last)",
      "Cell \u001b[1;32mIn[16], line 6\u001b[0m\n\u001b[0;32m      3\u001b[0m networks_X, networks_y \u001b[39m=\u001b[39m network_generator\u001b[39m.\u001b[39mgenerate(networks\u001b[39m=\u001b[39m\u001b[39m10\u001b[39m)\n\u001b[0;32m      5\u001b[0m \u001b[39m# create an RSA object\u001b[39;00m\n\u001b[1;32m----> 6\u001b[0m netrep_metric \u001b[39m=\u001b[39m ESM()\n\u001b[0;32m      7\u001b[0m ingestion_report \u001b[39m=\u001b[39m netrep_metric\u001b[39m.\u001b[39mingest(networks_X, networks_y)\n\u001b[0;32m      8\u001b[0m digestion_report \u001b[39m=\u001b[39m netrep_metric\u001b[39m.\u001b[39mdigest()\n",
      "\u001b[1;31mNameError\u001b[0m: name 'ESM' is not defined"
     ]
    }
   ],
   "source": [
    "# create 10 synthetic networks\n",
    "network_generator = SyntheticNetworks()\n",
    "networks_X, networks_y = network_generator.generate(networks=10)\n",
    "\n",
    "# create an RSA object\n",
    "netrep_metric = ESM()\n",
    "ingestion_report = netrep_metric.ingest(networks_X, networks_y)\n",
    "digestion_report = netrep_metric.digest()\n",
    "energy_distance = netrep_metric.score(verbose=True)\n",
    "\n",
    "netrep_metric.plot()"
   ]
  },
  {
   "cell_type": "code",
   "execution_count": 17,
   "metadata": {},
   "outputs": [],
   "source": [
    "network_generator = SyntheticNetworks()\n",
    "networks_X, networks_y = network_generator.generate(networks=3, n_samples=600, n_classes=4, n_features=2)"
   ]
  },
  {
   "cell_type": "code",
   "execution_count": 18,
   "metadata": {},
   "outputs": [],
   "source": [
    "X1, Y1 = networks_X[0], networks_y[0]"
   ]
  },
  {
   "cell_type": "code",
   "execution_count": 19,
   "metadata": {},
   "outputs": [
    {
     "data": {
      "text/plain": [
       "((600, 2), (600,))"
      ]
     },
     "execution_count": 19,
     "metadata": {},
     "output_type": "execute_result"
    }
   ],
   "source": [
    "X1.shape, Y1.shape"
   ]
  },
  {
   "cell_type": "code",
   "execution_count": 20,
   "metadata": {},
   "outputs": [],
   "source": [
    "import numpy as np\n",
    "\n",
    "def slice_min_samples_by_class(X, Y, n_classes, n_min_samples, n_features):\n",
    "    X_reshaped = np.zeros((n_classes, n_min_samples, n_features))\n",
    "    Y_reshaped = np.zeros((n_classes, n_min_samples))\n",
    "\n",
    "    for i in range(n_classes):\n",
    "        class_indices = np.where(Y == i)[0] # Get the indices of samples belonging to class i\n",
    "        np.random.shuffle(class_indices) # Shuffle the indices to get random samples\n",
    "        X_class = X[class_indices[:n_min_samples]] # Get the first n_min_samples samples belonging to class i\n",
    "        Y_class = Y[class_indices[:n_min_samples]]\n",
    "        X_reshaped[i] = X_class.reshape(n_min_samples, -1)  # Reshape the samples into 2D array\n",
    "        Y_reshaped[i] = Y_class\n",
    "\n",
    "    return X_reshaped, Y_reshaped"
   ]
  },
  {
   "cell_type": "code",
   "execution_count": 21,
   "metadata": {},
   "outputs": [],
   "source": [
    "def reshape_networks_by_class(X_all, Y_all, n_classes):\n",
    "    '''Returns list of Networks in shape [(class, sample, feature), (class, sample, feature), ...]'''\n",
    "\n",
    "    X_all_by_class = []\n",
    "    Y_all_by_class = []\n",
    "\n",
    "    for i in range(len(X_all)):\n",
    "        X = X_all[i]\n",
    "        Y = Y_all[i]\n",
    "\n",
    "        X_by_class = [X[Y==i] for i in range(n_classes)]\n",
    "        Y_by_class = [Y[Y==i] for i in range(n_classes)]\n",
    "\n",
    "        X_all_by_class.append(X_by_class)\n",
    "        Y_all_by_class.append(Y_by_class)\n",
    "\n",
    "    return X_all_by_class, Y_all_by_class"
   ]
  },
  {
   "cell_type": "code",
   "execution_count": 22,
   "metadata": {},
   "outputs": [
    {
     "data": {
      "text/plain": [
       "((600, 2), 3)"
      ]
     },
     "execution_count": 22,
     "metadata": {},
     "output_type": "execute_result"
    }
   ],
   "source": [
    "networks_X[0].shape, len(networks_X)"
   ]
  },
  {
   "cell_type": "code",
   "execution_count": 23,
   "metadata": {},
   "outputs": [],
   "source": [
    "X_all_by_class, Y_all_by_class = reshape_networks_by_class(networks_X, networks_y, 4)"
   ]
  },
  {
   "cell_type": "code",
   "execution_count": 24,
   "metadata": {},
   "outputs": [
    {
     "data": {
      "text/plain": [
       "(3, 4, 151, 2)"
      ]
     },
     "execution_count": 24,
     "metadata": {},
     "output_type": "execute_result"
    }
   ],
   "source": [
    "len(X_all_by_class), len(X_all_by_class[0]), len(X_all_by_class[0][1]), len(X_all_by_class[0][0][0])"
   ]
  },
  {
   "cell_type": "code",
   "execution_count": 25,
   "metadata": {},
   "outputs": [],
   "source": [
    "def get_min_samples_per_class(X_all_by_class):\n",
    "    '''Works accross all networks and returns the minimum number of samples per class'''\n",
    "\n",
    "    minimum_samples_per_class = float('inf')\n",
    "\n",
    "    for net_id, network in enumerate(X_all_by_class):\n",
    "        \n",
    "        for class_id, classes in enumerate(network):\n",
    "            sample_length = len(classes)\n",
    "\n",
    "            print(f\"for network {net_id}| class {class_id} | found:  {sample_length} samples\")\n",
    "\n",
    "            if sample_length < minimum_samples_per_class:\n",
    "                minimum_samples_per_class = sample_length\n",
    "\n",
    "    return minimum_samples_per_class\n"
   ]
  },
  {
   "cell_type": "code",
   "execution_count": 26,
   "metadata": {},
   "outputs": [
    {
     "name": "stdout",
     "output_type": "stream",
     "text": [
      "for network 0| class 0 | found:  150 samples\n",
      "for network 0| class 1 | found:  151 samples\n",
      "for network 0| class 2 | found:  149 samples\n",
      "for network 0| class 3 | found:  150 samples\n",
      "for network 1| class 0 | found:  150 samples\n",
      "for network 1| class 1 | found:  150 samples\n",
      "for network 1| class 2 | found:  150 samples\n",
      "for network 1| class 3 | found:  150 samples\n",
      "for network 2| class 0 | found:  148 samples\n",
      "for network 2| class 1 | found:  150 samples\n",
      "for network 2| class 2 | found:  150 samples\n",
      "for network 2| class 3 | found:  152 samples\n"
     ]
    }
   ],
   "source": [
    "n_min_samples = get_min_samples_per_class(X_all_by_class)"
   ]
  },
  {
   "cell_type": "code",
   "execution_count": 40,
   "metadata": {},
   "outputs": [],
   "source": [
    "def slice_by_samples(X_all_by_class, n_min_samples):\n",
    "    '''Returns a list of networks in shape np.array([(class, n_minsamples, feature), (class, n_minsamples, feature), ...])'''\n",
    "\n",
    "    X_all_sliced = []\n",
    "\n",
    "    for network in X_all_by_class:\n",
    "        net_t = []\n",
    "\n",
    "        for classes in network:\n",
    "            net_t.append(classes[:n_min_samples])\n",
    "\n",
    "        X_all_sliced.append(np.array(net_t))\n",
    "\n",
    "    return X_all_sliced"
   ]
  },
  {
   "cell_type": "code",
   "execution_count": 41,
   "metadata": {},
   "outputs": [],
   "source": [
    "X_all_reshaped = slice_by_samples(X_all_by_class, n_min_samples)"
   ]
  },
  {
   "cell_type": "code",
   "execution_count": 42,
   "metadata": {},
   "outputs": [
    {
     "ename": "AttributeError",
     "evalue": "'list' object has no attribute 'shape'",
     "output_type": "error",
     "traceback": [
      "\u001b[1;31m---------------------------------------------------------------------------\u001b[0m",
      "\u001b[1;31mAttributeError\u001b[0m                            Traceback (most recent call last)",
      "Cell \u001b[1;32mIn[42], line 1\u001b[0m\n\u001b[1;32m----> 1\u001b[0m X_all_reshaped\u001b[39m.\u001b[39;49mshape\n",
      "\u001b[1;31mAttributeError\u001b[0m: 'list' object has no attribute 'shape'"
     ]
    }
   ],
   "source": [
    "X_all_reshaped.shape"
   ]
  },
  {
   "cell_type": "code",
   "execution_count": 43,
   "metadata": {},
   "outputs": [],
   "source": [
    "from inspector.rsa import NetRep"
   ]
  },
  {
   "cell_type": "code",
   "execution_count": 44,
   "metadata": {},
   "outputs": [],
   "source": [
    "rep = NetRep()"
   ]
  },
  {
   "cell_type": "code",
   "execution_count": 45,
   "metadata": {},
   "outputs": [
    {
     "data": {
      "text/plain": [
       "array([[0.        , 0.27189048, 0.22689774],\n",
       "       [0.27189048, 0.        , 0.20134913],\n",
       "       [0.22689774, 0.20134913, 0.        ]])"
      ]
     },
     "execution_count": 45,
     "metadata": {},
     "output_type": "execute_result"
    }
   ],
   "source": [
    "rep.score(networks=X_all_reshaped)"
   ]
  },
  {
   "cell_type": "code",
   "execution_count": null,
   "metadata": {},
   "outputs": [],
   "source": [
    "import numpy as np\n",
    "\n",
    "# assume X_all_by_class is a list of lists with different lengths\n",
    "# reshape the data to create a new 2D array with a homogeneous shape\n",
    "X_reshaped = np.array([x[:10] for x in X_all_by_class])\n",
    "\n",
    "# print the shape of the new array\n",
    "print(X_reshaped.shape) # output: (3, 10)"
   ]
  },
  {
   "cell_type": "code",
   "execution_count": null,
   "metadata": {},
   "outputs": [],
   "source": []
  }
 ],
 "metadata": {
  "kernelspec": {
   "display_name": "env",
   "language": "python",
   "name": "python3"
  },
  "language_info": {
   "codemirror_mode": {
    "name": "ipython",
    "version": 3
   },
   "file_extension": ".py",
   "mimetype": "text/x-python",
   "name": "python",
   "nbconvert_exporter": "python",
   "pygments_lexer": "ipython3",
   "version": "3.9.13"
  },
  "orig_nbformat": 4
 },
 "nbformat": 4,
 "nbformat_minor": 2
}

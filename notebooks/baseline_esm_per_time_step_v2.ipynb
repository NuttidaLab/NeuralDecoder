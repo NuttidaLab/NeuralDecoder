{
 "cells": [
  {
   "cell_type": "code",
   "execution_count": 8,
   "metadata": {},
   "outputs": [],
   "source": [
    "import os, sys; sys.path.append(os.path.abspath('../'))\n",
    "\n",
    "import scipy.io\n",
    "from inspector.rsa import ESM\n",
    "\n",
    "from tqdm import tqdm\n",
    "import numpy as np"
   ]
  },
  {
   "cell_type": "code",
   "execution_count": 2,
   "metadata": {},
   "outputs": [],
   "source": [
    "data_dir = os.path.abspath(r'..\\data\\baseline')\n",
    "data_files = [os.path.join(data_dir, f) for f in os.listdir(data_dir) if f.endswith('.mat')]"
   ]
  },
  {
   "cell_type": "code",
   "execution_count": 14,
   "metadata": {},
   "outputs": [
    {
     "name": "stdout",
     "output_type": "stream",
     "text": [
      "(10, 4, 50, 200, 300) 10\n"
     ]
    }
   ],
   "source": [
    "n_networks = 10\n",
    "\n",
    "network_X = []\n",
    "network_y = []\n",
    "\n",
    "for f in data_files[:n_networks]:\n",
    "    data = scipy.io.loadmat(f)\n",
    "    test_x = data['test_x']\n",
    "    test_out = data['test_out']\n",
    "\n",
    "    network_X.append(test_x)\n",
    "    network_y.append(test_out)\n",
    "\n",
    "network_X = np.array(network_X)\n",
    "network_y = np.array(network_y)\n",
    "\n",
    "print(network_X.shape, len(network_y))"
   ]
  },
  {
   "cell_type": "code",
   "execution_count": 15,
   "metadata": {},
   "outputs": [
    {
     "data": {
      "text/plain": [
       "(300, 10, 4, 50, 200)"
      ]
     },
     "execution_count": 15,
     "metadata": {},
     "output_type": "execute_result"
    }
   ],
   "source": [
    "network_X_transposed = network_X.transpose(4, 0, 1, 2, 3)\n",
    "network_X_transposed.shape"
   ]
  },
  {
   "cell_type": "code",
   "execution_count": null,
   "metadata": {},
   "outputs": [],
   "source": [
    "frame_limit = 20\n",
    "\n",
    "distance_matrix_per_time_step = []\n",
    "for frame in tqdm(network_X_transposed[:frame_limit], desc=\"Overall progress\"):\n",
    "    netrep_metric = ESM(verbose = True)\n",
    "    ingestion_report = netrep_metric.ingest(frame, None, preprcessed = True)\n",
    "    energy_distance = netrep_metric.score()\n",
    "    distance_matrix_per_time_step.append(energy_distance)"
   ]
  },
  {
   "cell_type": "code",
   "execution_count": 14,
   "metadata": {},
   "outputs": [],
   "source": [
    "distance_matrix_per_time_step = np.array(distance_matrix_per_time_step)"
   ]
  },
  {
   "cell_type": "code",
   "execution_count": 65,
   "metadata": {},
   "outputs": [],
   "source": [
    "# save the distance matrix\n",
    "np.save(\"baseline_energy_dist_20_time_step_10_models.npy\", distance_matrix_per_time_step)"
   ]
  },
  {
   "cell_type": "code",
   "execution_count": null,
   "metadata": {},
   "outputs": [],
   "source": []
  },
  {
   "cell_type": "code",
   "execution_count": null,
   "metadata": {},
   "outputs": [],
   "source": []
  },
  {
   "cell_type": "code",
   "execution_count": null,
   "metadata": {},
   "outputs": [],
   "source": []
  },
  {
   "cell_type": "code",
   "execution_count": null,
   "metadata": {},
   "outputs": [],
   "source": []
  },
  {
   "cell_type": "code",
   "execution_count": null,
   "metadata": {},
   "outputs": [],
   "source": []
  }
 ],
 "metadata": {
  "kernelspec": {
   "display_name": "env",
   "language": "python",
   "name": "python3"
  },
  "language_info": {
   "codemirror_mode": {
    "name": "ipython",
    "version": 3
   },
   "file_extension": ".py",
   "mimetype": "text/x-python",
   "name": "python",
   "nbconvert_exporter": "python",
   "pygments_lexer": "ipython3",
   "version": "3.9.13"
  },
  "orig_nbformat": 4
 },
 "nbformat": 4,
 "nbformat_minor": 2
}

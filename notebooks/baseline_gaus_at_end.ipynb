{
 "cells": [
  {
   "cell_type": "code",
   "execution_count": 1,
   "metadata": {},
   "outputs": [],
   "source": [
    "import os, sys; sys.path.append(os.path.abspath('../'))"
   ]
  },
  {
   "cell_type": "code",
   "execution_count": 2,
   "metadata": {},
   "outputs": [],
   "source": [
    "# Crawl the data directory\n",
    "import os\n",
    "\n",
    "data_dir = r'..\\data\\baseline'\n",
    "\n",
    "data_files = [os.path.join(data_dir, f) for f in os.listdir(data_dir) if f.endswith('.mat')]\n",
    "# loop over the files\n",
    "\n",
    "import scipy.io\n",
    "\n",
    "All_network_X = []\n",
    "All_network_y = []\n",
    "\n",
    "for f in data_files[:10]:\n",
    "    data = scipy.io.loadmat(f)\n",
    "    test_x = data['test_x']\n",
    "    test_out = data['test_out']\n",
    "\n",
    "    All_network_X.append(test_x)\n",
    "    All_network_y.append(test_out)\n",
    "\n",
    "import numpy as np\n",
    "\n",
    "All_network_X = np.array(All_network_X)\n",
    "All_network_y = np.array(All_network_y)"
   ]
  },
  {
   "cell_type": "code",
   "execution_count": 3,
   "metadata": {},
   "outputs": [],
   "source": [
    "import os, sys; sys.path.append(os.path.abspath('../'))\n",
    "# from inspector.rsa import ESM"
   ]
  },
  {
   "cell_type": "code",
   "execution_count": 4,
   "metadata": {},
   "outputs": [],
   "source": [
    "from typing import Tuple\n",
    "import numpy.typing as npt\n",
    "import numpy as np\n",
    "\n",
    "from inspector.rsa.netrep_wrapper import NetRep\n",
    "import numpy as np\n",
    "from inspector.utility import plot_distmat\n",
    "\n",
    "from netrep.metrics.stochastic import GaussianStochasticMetric\n",
    "\n",
    "class GSM_tests(NetRep):\n",
    "    def __init__(self, verbose = True):\n",
    "        super().__init__(verbose)\n",
    "\n",
    "    def get_means_and_covs(self, X, y):\n",
    "        \"\"\"Helper method that computes class-conditional means and covariances.\"\"\"\n",
    "        \n",
    "        classes = np.unique(y)\n",
    "        means = np.stack([np.mean(X[y==labels], 0) for labels in classes], 0) # Meaning: compute the mean of each class\n",
    "        covs = np.stack([np.cov(X[y==labels].T) for labels in classes], 0) # Meaning: compute the covariance of each class\n",
    "        return means, covs\n",
    "\n",
    "    def digest(self):\n",
    "\n",
    "        # check if the data has already been digested\n",
    "        if self.data[\"digested_flag\"]:\n",
    "            if self.verbose: print(\"Data already digested, skipping digestion\")\n",
    "            return \"TBD Digestion Report\"\n",
    "\n",
    "        X_all = self.data['X']\n",
    "        Y_all = self.data['y']\n",
    "\n",
    "        self.data['digested_networks'] = []\n",
    "\n",
    "        for i in range(len(X_all)):\n",
    "            print(X_all[i].shape, Y_all[i].shape)\n",
    "            means, covs = self.get_means_and_covs(X_all[i], Y_all[i])\n",
    "            print(means.shape, covs.shape)\n",
    "            # print(means, covs)\n",
    "            self.data['digested_networks'].append((means, covs))\n",
    "\n",
    "        if self.verbose: print(f\"Successfully digested data, available in self.data['digested_networks']\")\n",
    "\n",
    "        # set the digested flag\n",
    "        self.data[\"digested_flag\"] = True\n",
    "        \n",
    "        # return the report of digested networks\n",
    "        return \"TBD Digestion Report\"\n",
    "\n",
    "    def score(self):\n",
    "        metric = GaussianStochasticMetric(1)\n",
    "        return super().score(metric)\n",
    "    \n",
    "    def plot(self, title=\"Gaussian Stochastic Metric\", out_path=None):\n",
    "        '''Plot the RSA score'''\n",
    "        plot_distmat(self.data['distance_matrix'], title=title, out_path=out_path)"
   ]
  },
  {
   "cell_type": "code",
   "execution_count": 5,
   "metadata": {},
   "outputs": [
    {
     "data": {
      "text/plain": [
       "(10, 200, 300)"
      ]
     },
     "execution_count": 5,
     "metadata": {},
     "output_type": "execute_result"
    }
   ],
   "source": [
    "y_last_50_avg = All_network_y[:, :, :, -50:]\n",
    "y_last_50_avg.shape\n",
    "y_last_50_avg = np.average(y_last_50_avg, axis=3)\n",
    "y_last_50_avg.shape\n",
    "y_last_50_avg = y_last_50_avg.reshape(y_last_50_avg.shape[0], -1)\n",
    "y_last_50_avg.shape\n",
    "\n",
    "# for every value in y_last_50_avg, if it is greater than 0, set it to 1, else set it to -1\n",
    "y_last_50_avg[y_last_50_avg > 0] = 1\n",
    "y_last_50_avg[y_last_50_avg < 0] = -1\n",
    "\n",
    "x_nuron_avg = np.average(All_network_X, axis=3)\n",
    "x_nuron_avg.shape\n",
    "x_nuron_avg = x_nuron_avg.reshape(10, 4*50, 300)\n",
    "x_nuron_avg.shape"
   ]
  },
  {
   "cell_type": "code",
   "execution_count": 6,
   "metadata": {},
   "outputs": [],
   "source": [
    "x_nuron_avg += 100"
   ]
  },
  {
   "cell_type": "code",
   "execution_count": 7,
   "metadata": {},
   "outputs": [],
   "source": [
    "def digest_and_score(X, y):\n",
    "    netrep_metric = GSM_tests(verbose = True)\n",
    "    ingestion_report = netrep_metric.ingest(X, y, preprcessed = False)\n",
    "    digestion_report = netrep_metric.digest()\n",
    "    energy_distance = netrep_metric.score()\n",
    "    netrep_metric.plot()\n",
    "    return energy_distance"
   ]
  },
  {
   "cell_type": "code",
   "execution_count": 8,
   "metadata": {},
   "outputs": [
    {
     "name": "stdout",
     "output_type": "stream",
     "text": [
      "(200, 300) (200,)\n",
      "(2, 300) (2, 300, 300)\n",
      "(200, 300) (200,)\n",
      "(2, 300) (2, 300, 300)\n",
      "Successfully digested data, available in self.data['digested_networks']\n"
     ]
    },
    {
     "name": "stderr",
     "output_type": "stream",
     "text": [
      "  0%|          | 0/1 [00:00<?, ?it/s]c:\\users\\monac\\documents\\github\\netrep\\netrep\\metrics\\stochastic.py:366: RuntimeWarning: invalid value encountered in sqrt\n",
      "  sX = np.einsum(\"ijk,ik,ilk->ijl\", uX, np.sqrt(vX), uX)\n",
      "c:\\users\\monac\\documents\\github\\netrep\\netrep\\metrics\\stochastic.py:369: RuntimeWarning: invalid value encountered in sqrt\n",
      "  sY = np.einsum(\"ijk,ik,ilk->ijl\", uY, np.sqrt(vY), uY)\n"
     ]
    },
    {
     "ename": "ValueError",
     "evalue": "array must not contain infs or NaNs",
     "output_type": "error",
     "traceback": [
      "\u001b[1;31m---------------------------------------------------------------------------\u001b[0m",
      "\u001b[1;31mValueError\u001b[0m                                Traceback (most recent call last)",
      "Cell \u001b[1;32mIn[8], line 2\u001b[0m\n\u001b[0;32m      1\u001b[0m lim \u001b[39m=\u001b[39m \u001b[39m2\u001b[39m\n\u001b[1;32m----> 2\u001b[0m energy_distance \u001b[39m=\u001b[39m digest_and_score(x_nuron_avg[:lim], y_last_50_avg[:lim])\n",
      "Cell \u001b[1;32mIn[7], line 5\u001b[0m, in \u001b[0;36mdigest_and_score\u001b[1;34m(X, y)\u001b[0m\n\u001b[0;32m      3\u001b[0m ingestion_report \u001b[39m=\u001b[39m netrep_metric\u001b[39m.\u001b[39mingest(X, y, preprcessed \u001b[39m=\u001b[39m \u001b[39mFalse\u001b[39;00m)\n\u001b[0;32m      4\u001b[0m digestion_report \u001b[39m=\u001b[39m netrep_metric\u001b[39m.\u001b[39mdigest()\n\u001b[1;32m----> 5\u001b[0m energy_distance \u001b[39m=\u001b[39m netrep_metric\u001b[39m.\u001b[39;49mscore()\n\u001b[0;32m      6\u001b[0m netrep_metric\u001b[39m.\u001b[39mplot()\n\u001b[0;32m      7\u001b[0m \u001b[39mreturn\u001b[39;00m energy_distance\n",
      "Cell \u001b[1;32mIn[4], line 52\u001b[0m, in \u001b[0;36mGSM_tests.score\u001b[1;34m(self)\u001b[0m\n\u001b[0;32m     50\u001b[0m \u001b[39mdef\u001b[39;00m \u001b[39mscore\u001b[39m(\u001b[39mself\u001b[39m):\n\u001b[0;32m     51\u001b[0m     metric \u001b[39m=\u001b[39m GaussianStochasticMetric(\u001b[39m1\u001b[39m)\n\u001b[1;32m---> 52\u001b[0m     \u001b[39mreturn\u001b[39;00m \u001b[39msuper\u001b[39;49m()\u001b[39m.\u001b[39;49mscore(metric)\n",
      "File \u001b[1;32mc:\\Users\\monac\\Documents\\GitHub\\RSA_Investigations\\inspector\\rsa\\netrep_wrapper.py:15\u001b[0m, in \u001b[0;36mNetRep.score\u001b[1;34m(self, metric, networks)\u001b[0m\n\u001b[0;32m     13\u001b[0m \u001b[39m\u001b[39m\u001b[39m'''Compute the netrep score'''\u001b[39;00m\n\u001b[0;32m     14\u001b[0m \u001b[39mif\u001b[39;00m \u001b[39mnot\u001b[39;00m networks: networks \u001b[39m=\u001b[39m \u001b[39mself\u001b[39m\u001b[39m.\u001b[39mdata[\u001b[39m'\u001b[39m\u001b[39mdigested_networks\u001b[39m\u001b[39m'\u001b[39m]\n\u001b[1;32m---> 15\u001b[0m distmat_energy \u001b[39m=\u001b[39m pairwise_distances(metric, networks, verbose\u001b[39m=\u001b[39;49m\u001b[39mself\u001b[39;49m\u001b[39m.\u001b[39;49mverbose)\n\u001b[0;32m     17\u001b[0m \u001b[39mself\u001b[39m\u001b[39m.\u001b[39mdata[\u001b[39m'\u001b[39m\u001b[39mdistance_matrix\u001b[39m\u001b[39m'\u001b[39m] \u001b[39m=\u001b[39m distmat_energy\n\u001b[0;32m     19\u001b[0m \u001b[39mreturn\u001b[39;00m distmat_energy\n",
      "File \u001b[1;32mc:\\users\\monac\\documents\\github\\netrep\\netrep\\multiset.py:94\u001b[0m, in \u001b[0;36mpairwise_distances\u001b[1;34m(metric, traindata, testdata, verbose, enable_caching)\u001b[0m\n\u001b[0;32m     92\u001b[0m     metric\u001b[39m.\u001b[39mfinalize_fit(caches[i], caches[j])\n\u001b[0;32m     93\u001b[0m \u001b[39melse\u001b[39;00m:\n\u001b[1;32m---> 94\u001b[0m     metric\u001b[39m.\u001b[39;49mfit(traindata[i], traindata[j])\n\u001b[0;32m     96\u001b[0m \u001b[39m# Evaluate distance on the training set.\u001b[39;00m\n\u001b[0;32m     97\u001b[0m D_train[i, j] \u001b[39m=\u001b[39m metric\u001b[39m.\u001b[39mscore(traindata[i], traindata[j])\n",
      "File \u001b[1;32mc:\\users\\monac\\documents\\github\\netrep\\netrep\\metrics\\stochastic.py:100\u001b[0m, in \u001b[0;36mGaussianStochasticMetric.fit\u001b[1;34m(self, X, Y)\u001b[0m\n\u001b[0;32m     97\u001b[0m \u001b[39melif\u001b[39;00m \u001b[39mself\u001b[39m\u001b[39m.\u001b[39minit \u001b[39m==\u001b[39m \u001b[39m\"\u001b[39m\u001b[39mrand\u001b[39m\u001b[39m\"\u001b[39m:\n\u001b[0;32m     98\u001b[0m     init_T \u001b[39m=\u001b[39m rand_orth(means_X\u001b[39m.\u001b[39mshape[\u001b[39m1\u001b[39m], random_state\u001b[39m=\u001b[39m\u001b[39mself\u001b[39m\u001b[39m.\u001b[39m_rs)\n\u001b[1;32m--> 100\u001b[0m T, loss_hist \u001b[39m=\u001b[39m _fit_gaussian_alignment(\n\u001b[0;32m    101\u001b[0m     means_X, means_Y, covs_X, covs_Y, init_T,\n\u001b[0;32m    102\u001b[0m     \u001b[39mself\u001b[39;49m\u001b[39m.\u001b[39;49malpha, \u001b[39mself\u001b[39;49m\u001b[39m.\u001b[39;49mgroup, \u001b[39mself\u001b[39;49m\u001b[39m.\u001b[39;49mniter, \u001b[39mself\u001b[39;49m\u001b[39m.\u001b[39;49mtol\n\u001b[0;32m    103\u001b[0m )\n\u001b[0;32m    104\u001b[0m \u001b[39mif\u001b[39;00m best_loss \u001b[39m>\u001b[39m loss_hist[\u001b[39m-\u001b[39m\u001b[39m1\u001b[39m]:\n\u001b[0;32m    105\u001b[0m     best_loss \u001b[39m=\u001b[39m loss_hist[\u001b[39m-\u001b[39m\u001b[39m1\u001b[39m]\n",
      "File \u001b[1;32mc:\\users\\monac\\documents\\github\\netrep\\netrep\\metrics\\stochastic.py:374\u001b[0m, in \u001b[0;36m_fit_gaussian_alignment\u001b[1;34m(means_X, means_Y, covs_X, covs_Y, T, alpha, group, niter, tol)\u001b[0m\n\u001b[0;32m    371\u001b[0m loss_hist \u001b[39m=\u001b[39m []\n\u001b[0;32m    373\u001b[0m \u001b[39mfor\u001b[39;00m i \u001b[39min\u001b[39;00m \u001b[39mrange\u001b[39m(niter):\n\u001b[1;32m--> 374\u001b[0m     Qs \u001b[39m=\u001b[39m [align(T\u001b[39m.\u001b[39mT \u001b[39m@\u001b[39m sy, sx, group\u001b[39m=\u001b[39m\u001b[39m\"\u001b[39m\u001b[39morth\u001b[39m\u001b[39m\"\u001b[39m) \u001b[39mfor\u001b[39;00m sx, sy \u001b[39min\u001b[39;00m \u001b[39mzip\u001b[39m(sX, sY)]\n\u001b[0;32m    375\u001b[0m     A \u001b[39m=\u001b[39m np\u001b[39m.\u001b[39mrow_stack(\n\u001b[0;32m    376\u001b[0m         [alpha \u001b[39m*\u001b[39m means_X] \u001b[39m+\u001b[39m\n\u001b[0;32m    377\u001b[0m         [(\u001b[39m2\u001b[39m \u001b[39m-\u001b[39m alpha) \u001b[39m*\u001b[39m sx \u001b[39mfor\u001b[39;00m sx \u001b[39min\u001b[39;00m sX]\n\u001b[0;32m    378\u001b[0m     )\n\u001b[0;32m    379\u001b[0m     r_sY \u001b[39m=\u001b[39m []\n",
      "File \u001b[1;32mc:\\users\\monac\\documents\\github\\netrep\\netrep\\metrics\\stochastic.py:374\u001b[0m, in \u001b[0;36m<listcomp>\u001b[1;34m(.0)\u001b[0m\n\u001b[0;32m    371\u001b[0m loss_hist \u001b[39m=\u001b[39m []\n\u001b[0;32m    373\u001b[0m \u001b[39mfor\u001b[39;00m i \u001b[39min\u001b[39;00m \u001b[39mrange\u001b[39m(niter):\n\u001b[1;32m--> 374\u001b[0m     Qs \u001b[39m=\u001b[39m [align(T\u001b[39m.\u001b[39;49mT \u001b[39m@\u001b[39;49m sy, sx, group\u001b[39m=\u001b[39;49m\u001b[39m\"\u001b[39;49m\u001b[39morth\u001b[39;49m\u001b[39m\"\u001b[39;49m) \u001b[39mfor\u001b[39;00m sx, sy \u001b[39min\u001b[39;00m \u001b[39mzip\u001b[39m(sX, sY)]\n\u001b[0;32m    375\u001b[0m     A \u001b[39m=\u001b[39m np\u001b[39m.\u001b[39mrow_stack(\n\u001b[0;32m    376\u001b[0m         [alpha \u001b[39m*\u001b[39m means_X] \u001b[39m+\u001b[39m\n\u001b[0;32m    377\u001b[0m         [(\u001b[39m2\u001b[39m \u001b[39m-\u001b[39m alpha) \u001b[39m*\u001b[39m sx \u001b[39mfor\u001b[39;00m sx \u001b[39min\u001b[39;00m sX]\n\u001b[0;32m    378\u001b[0m     )\n\u001b[0;32m    379\u001b[0m     r_sY \u001b[39m=\u001b[39m []\n",
      "File \u001b[1;32mc:\\users\\monac\\documents\\github\\netrep\\netrep\\utils.py:51\u001b[0m, in \u001b[0;36malign\u001b[1;34m(X, Y, group)\u001b[0m\n\u001b[0;32m     22\u001b[0m \u001b[39m\u001b[39m\u001b[39m\"\"\"Return a matrix that optimally aligns 'X' to 'Y'. Note\u001b[39;00m\n\u001b[0;32m     23\u001b[0m \u001b[39mthat the optimal alignment is the same for either the\u001b[39;00m\n\u001b[0;32m     24\u001b[0m \u001b[39mangular distance or the Euclidean distance since all\u001b[39;00m\n\u001b[1;32m   (...)\u001b[0m\n\u001b[0;32m     47\u001b[0m \u001b[39m    by symmetry.\u001b[39;00m\n\u001b[0;32m     48\u001b[0m \u001b[39m\"\"\"\u001b[39;00m\n\u001b[0;32m     50\u001b[0m \u001b[39mif\u001b[39;00m group \u001b[39m==\u001b[39m \u001b[39m\"\u001b[39m\u001b[39morth\u001b[39m\u001b[39m\"\u001b[39m:\n\u001b[1;32m---> 51\u001b[0m     \u001b[39mreturn\u001b[39;00m orthogonal_procrustes(X, Y)[\u001b[39m0\u001b[39m]\n\u001b[0;32m     53\u001b[0m \u001b[39melif\u001b[39;00m group \u001b[39m==\u001b[39m \u001b[39m\"\u001b[39m\u001b[39mperm\u001b[39m\u001b[39m\"\u001b[39m:\n\u001b[0;32m     54\u001b[0m     ri, ci \u001b[39m=\u001b[39m linear_sum_assignment(X\u001b[39m.\u001b[39mT \u001b[39m@\u001b[39m Y, maximize\u001b[39m=\u001b[39m\u001b[39mTrue\u001b[39;00m)\n",
      "File \u001b[1;32mc:\\Users\\monac\\Documents\\GitHub\\RSA_Investigations\\env\\lib\\site-packages\\scipy\\linalg\\_procrustes.py:76\u001b[0m, in \u001b[0;36morthogonal_procrustes\u001b[1;34m(A, B, check_finite)\u001b[0m\n\u001b[0;32m     13\u001b[0m \u001b[39m\u001b[39m\u001b[39m\"\"\"\u001b[39;00m\n\u001b[0;32m     14\u001b[0m \u001b[39mCompute the matrix solution of the orthogonal Procrustes problem.\u001b[39;00m\n\u001b[0;32m     15\u001b[0m \n\u001b[1;32m   (...)\u001b[0m\n\u001b[0;32m     73\u001b[0m \n\u001b[0;32m     74\u001b[0m \u001b[39m\"\"\"\u001b[39;00m\n\u001b[0;32m     75\u001b[0m \u001b[39mif\u001b[39;00m check_finite:\n\u001b[1;32m---> 76\u001b[0m     A \u001b[39m=\u001b[39m np\u001b[39m.\u001b[39;49masarray_chkfinite(A)\n\u001b[0;32m     77\u001b[0m     B \u001b[39m=\u001b[39m np\u001b[39m.\u001b[39masarray_chkfinite(B)\n\u001b[0;32m     78\u001b[0m \u001b[39melse\u001b[39;00m:\n",
      "File \u001b[1;32mc:\\Users\\monac\\Documents\\GitHub\\RSA_Investigations\\env\\lib\\site-packages\\numpy\\lib\\function_base.py:628\u001b[0m, in \u001b[0;36masarray_chkfinite\u001b[1;34m(a, dtype, order)\u001b[0m\n\u001b[0;32m    626\u001b[0m a \u001b[39m=\u001b[39m asarray(a, dtype\u001b[39m=\u001b[39mdtype, order\u001b[39m=\u001b[39morder)\n\u001b[0;32m    627\u001b[0m \u001b[39mif\u001b[39;00m a\u001b[39m.\u001b[39mdtype\u001b[39m.\u001b[39mchar \u001b[39min\u001b[39;00m typecodes[\u001b[39m'\u001b[39m\u001b[39mAllFloat\u001b[39m\u001b[39m'\u001b[39m] \u001b[39mand\u001b[39;00m \u001b[39mnot\u001b[39;00m np\u001b[39m.\u001b[39misfinite(a)\u001b[39m.\u001b[39mall():\n\u001b[1;32m--> 628\u001b[0m     \u001b[39mraise\u001b[39;00m \u001b[39mValueError\u001b[39;00m(\n\u001b[0;32m    629\u001b[0m         \u001b[39m\"\u001b[39m\u001b[39marray must not contain infs or NaNs\u001b[39m\u001b[39m\"\u001b[39m)\n\u001b[0;32m    630\u001b[0m \u001b[39mreturn\u001b[39;00m a\n",
      "\u001b[1;31mValueError\u001b[0m: array must not contain infs or NaNs"
     ]
    }
   ],
   "source": [
    "lim = 2\n",
    "energy_distance = digest_and_score(x_nuron_avg[:lim], y_last_50_avg[:lim])"
   ]
  },
  {
   "cell_type": "code",
   "execution_count": 9,
   "metadata": {},
   "outputs": [
    {
     "name": "stdout",
     "output_type": "stream",
     "text": [
      "(200, 300) (200, 300)\n",
      "(200, 300) (200, 300)\n",
      "(200, 300) (200, 300)\n",
      "(200, 300) (200, 300)\n",
      "(200, 300) (200, 300)\n",
      "(200, 300) (200, 300)\n",
      "(200, 300) (200, 300)\n",
      "(200, 300) (200, 300)\n",
      "(200, 300) (200, 300)\n",
      "(200, 300) (200, 300)\n"
     ]
    }
   ],
   "source": [
    "a = []\n",
    "netrep_metric = GSM_tests(verbose = True)\n",
    "\n",
    "for i in range(len(x_nuron_avg)):\n",
    "    print(x_nuron_avg[i].shape, x_nuron_avg[i].shape)\n",
    "    means, covs = netrep_metric.get_means_and_covs(x_nuron_avg[i], y_last_50_avg[i])\n",
    "    a.append((means, covs))"
   ]
  },
  {
   "cell_type": "code",
   "execution_count": 12,
   "metadata": {},
   "outputs": [],
   "source": [
    "metric = GaussianStochasticMetric(1)"
   ]
  },
  {
   "cell_type": "code",
   "execution_count": null,
   "metadata": {},
   "outputs": [],
   "source": [
    "metric.fit(a[0], a[1])\n",
    "distmat_w2[i,j] = metric.score(a[0], a[1])"
   ]
  },
  {
   "cell_type": "code",
   "execution_count": 17,
   "metadata": {},
   "outputs": [
    {
     "name": "stdout",
     "output_type": "stream",
     "text": [
      "(means_x1.shape, covs_x2.shape) ((2, 300), (2, 300, 300))\n"
     ]
    }
   ],
   "source": [
    "# compute the class-conditional means and covariances for each network\n",
    "means_x1, covs_x1 = a[0][0], a[0][1]\n",
    "means_x2, covs_x2 = a[1][0], a[1][1]\n",
    "means_x3, covs_x3 = a[2][0], a[2][1]\n",
    "\n",
    "print(\"(means_x1.shape, covs_x2.shape)\", (means_x1.shape, covs_x1.shape))\n",
    "\n",
    "# compile into mu and sigma dicts for easier processing\n",
    "means = (means_x1, means_x2, means_x3)\n",
    "covs = (covs_x1, covs_x2, covs_x3)"
   ]
  },
  {
   "cell_type": "code",
   "execution_count": 18,
   "metadata": {},
   "outputs": [
    {
     "ename": "ValueError",
     "evalue": "array must not contain infs or NaNs",
     "output_type": "error",
     "traceback": [
      "\u001b[1;31m---------------------------------------------------------------------------\u001b[0m",
      "\u001b[1;31mValueError\u001b[0m                                Traceback (most recent call last)",
      "Cell \u001b[1;32mIn[18], line 15\u001b[0m\n\u001b[0;32m     11\u001b[0m Xi \u001b[39m=\u001b[39m (means[i], covs[i]) \u001b[39m# Meaning: Xi is a tuple of the means and covariances of network i\u001b[39;00m\n\u001b[0;32m     12\u001b[0m Xj \u001b[39m=\u001b[39m (means[j], covs[j]) \u001b[39m# Meaning: Xj is a tuple of the means and covariances of network j\u001b[39;00m\n\u001b[1;32m---> 15\u001b[0m metric\u001b[39m.\u001b[39;49mfit(Xi, Xj)\n\u001b[0;32m     16\u001b[0m distmat_w2[i,j] \u001b[39m=\u001b[39m metric\u001b[39m.\u001b[39mscore(Xi, Xj)\n\u001b[0;32m     18\u001b[0m \u001b[39m# My score printing code\u001b[39;00m\n",
      "File \u001b[1;32mc:\\users\\monac\\documents\\github\\netrep\\netrep\\metrics\\stochastic.py:100\u001b[0m, in \u001b[0;36mGaussianStochasticMetric.fit\u001b[1;34m(self, X, Y)\u001b[0m\n\u001b[0;32m     97\u001b[0m \u001b[39melif\u001b[39;00m \u001b[39mself\u001b[39m\u001b[39m.\u001b[39minit \u001b[39m==\u001b[39m \u001b[39m\"\u001b[39m\u001b[39mrand\u001b[39m\u001b[39m\"\u001b[39m:\n\u001b[0;32m     98\u001b[0m     init_T \u001b[39m=\u001b[39m rand_orth(means_X\u001b[39m.\u001b[39mshape[\u001b[39m1\u001b[39m], random_state\u001b[39m=\u001b[39m\u001b[39mself\u001b[39m\u001b[39m.\u001b[39m_rs)\n\u001b[1;32m--> 100\u001b[0m T, loss_hist \u001b[39m=\u001b[39m _fit_gaussian_alignment(\n\u001b[0;32m    101\u001b[0m     means_X, means_Y, covs_X, covs_Y, init_T,\n\u001b[0;32m    102\u001b[0m     \u001b[39mself\u001b[39;49m\u001b[39m.\u001b[39;49malpha, \u001b[39mself\u001b[39;49m\u001b[39m.\u001b[39;49mgroup, \u001b[39mself\u001b[39;49m\u001b[39m.\u001b[39;49mniter, \u001b[39mself\u001b[39;49m\u001b[39m.\u001b[39;49mtol\n\u001b[0;32m    103\u001b[0m )\n\u001b[0;32m    104\u001b[0m \u001b[39mif\u001b[39;00m best_loss \u001b[39m>\u001b[39m loss_hist[\u001b[39m-\u001b[39m\u001b[39m1\u001b[39m]:\n\u001b[0;32m    105\u001b[0m     best_loss \u001b[39m=\u001b[39m loss_hist[\u001b[39m-\u001b[39m\u001b[39m1\u001b[39m]\n",
      "File \u001b[1;32mc:\\users\\monac\\documents\\github\\netrep\\netrep\\metrics\\stochastic.py:374\u001b[0m, in \u001b[0;36m_fit_gaussian_alignment\u001b[1;34m(means_X, means_Y, covs_X, covs_Y, T, alpha, group, niter, tol)\u001b[0m\n\u001b[0;32m    371\u001b[0m loss_hist \u001b[39m=\u001b[39m []\n\u001b[0;32m    373\u001b[0m \u001b[39mfor\u001b[39;00m i \u001b[39min\u001b[39;00m \u001b[39mrange\u001b[39m(niter):\n\u001b[1;32m--> 374\u001b[0m     Qs \u001b[39m=\u001b[39m [align(T\u001b[39m.\u001b[39mT \u001b[39m@\u001b[39m sy, sx, group\u001b[39m=\u001b[39m\u001b[39m\"\u001b[39m\u001b[39morth\u001b[39m\u001b[39m\"\u001b[39m) \u001b[39mfor\u001b[39;00m sx, sy \u001b[39min\u001b[39;00m \u001b[39mzip\u001b[39m(sX, sY)]\n\u001b[0;32m    375\u001b[0m     A \u001b[39m=\u001b[39m np\u001b[39m.\u001b[39mrow_stack(\n\u001b[0;32m    376\u001b[0m         [alpha \u001b[39m*\u001b[39m means_X] \u001b[39m+\u001b[39m\n\u001b[0;32m    377\u001b[0m         [(\u001b[39m2\u001b[39m \u001b[39m-\u001b[39m alpha) \u001b[39m*\u001b[39m sx \u001b[39mfor\u001b[39;00m sx \u001b[39min\u001b[39;00m sX]\n\u001b[0;32m    378\u001b[0m     )\n\u001b[0;32m    379\u001b[0m     r_sY \u001b[39m=\u001b[39m []\n",
      "File \u001b[1;32mc:\\users\\monac\\documents\\github\\netrep\\netrep\\metrics\\stochastic.py:374\u001b[0m, in \u001b[0;36m<listcomp>\u001b[1;34m(.0)\u001b[0m\n\u001b[0;32m    371\u001b[0m loss_hist \u001b[39m=\u001b[39m []\n\u001b[0;32m    373\u001b[0m \u001b[39mfor\u001b[39;00m i \u001b[39min\u001b[39;00m \u001b[39mrange\u001b[39m(niter):\n\u001b[1;32m--> 374\u001b[0m     Qs \u001b[39m=\u001b[39m [align(T\u001b[39m.\u001b[39;49mT \u001b[39m@\u001b[39;49m sy, sx, group\u001b[39m=\u001b[39;49m\u001b[39m\"\u001b[39;49m\u001b[39morth\u001b[39;49m\u001b[39m\"\u001b[39;49m) \u001b[39mfor\u001b[39;00m sx, sy \u001b[39min\u001b[39;00m \u001b[39mzip\u001b[39m(sX, sY)]\n\u001b[0;32m    375\u001b[0m     A \u001b[39m=\u001b[39m np\u001b[39m.\u001b[39mrow_stack(\n\u001b[0;32m    376\u001b[0m         [alpha \u001b[39m*\u001b[39m means_X] \u001b[39m+\u001b[39m\n\u001b[0;32m    377\u001b[0m         [(\u001b[39m2\u001b[39m \u001b[39m-\u001b[39m alpha) \u001b[39m*\u001b[39m sx \u001b[39mfor\u001b[39;00m sx \u001b[39min\u001b[39;00m sX]\n\u001b[0;32m    378\u001b[0m     )\n\u001b[0;32m    379\u001b[0m     r_sY \u001b[39m=\u001b[39m []\n",
      "File \u001b[1;32mc:\\users\\monac\\documents\\github\\netrep\\netrep\\utils.py:51\u001b[0m, in \u001b[0;36malign\u001b[1;34m(X, Y, group)\u001b[0m\n\u001b[0;32m     22\u001b[0m \u001b[39m\u001b[39m\u001b[39m\"\"\"Return a matrix that optimally aligns 'X' to 'Y'. Note\u001b[39;00m\n\u001b[0;32m     23\u001b[0m \u001b[39mthat the optimal alignment is the same for either the\u001b[39;00m\n\u001b[0;32m     24\u001b[0m \u001b[39mangular distance or the Euclidean distance since all\u001b[39;00m\n\u001b[1;32m   (...)\u001b[0m\n\u001b[0;32m     47\u001b[0m \u001b[39m    by symmetry.\u001b[39;00m\n\u001b[0;32m     48\u001b[0m \u001b[39m\"\"\"\u001b[39;00m\n\u001b[0;32m     50\u001b[0m \u001b[39mif\u001b[39;00m group \u001b[39m==\u001b[39m \u001b[39m\"\u001b[39m\u001b[39morth\u001b[39m\u001b[39m\"\u001b[39m:\n\u001b[1;32m---> 51\u001b[0m     \u001b[39mreturn\u001b[39;00m orthogonal_procrustes(X, Y)[\u001b[39m0\u001b[39m]\n\u001b[0;32m     53\u001b[0m \u001b[39melif\u001b[39;00m group \u001b[39m==\u001b[39m \u001b[39m\"\u001b[39m\u001b[39mperm\u001b[39m\u001b[39m\"\u001b[39m:\n\u001b[0;32m     54\u001b[0m     ri, ci \u001b[39m=\u001b[39m linear_sum_assignment(X\u001b[39m.\u001b[39mT \u001b[39m@\u001b[39m Y, maximize\u001b[39m=\u001b[39m\u001b[39mTrue\u001b[39;00m)\n",
      "File \u001b[1;32mc:\\Users\\monac\\Documents\\GitHub\\RSA_Investigations\\env\\lib\\site-packages\\scipy\\linalg\\_procrustes.py:76\u001b[0m, in \u001b[0;36morthogonal_procrustes\u001b[1;34m(A, B, check_finite)\u001b[0m\n\u001b[0;32m     13\u001b[0m \u001b[39m\u001b[39m\u001b[39m\"\"\"\u001b[39;00m\n\u001b[0;32m     14\u001b[0m \u001b[39mCompute the matrix solution of the orthogonal Procrustes problem.\u001b[39;00m\n\u001b[0;32m     15\u001b[0m \n\u001b[1;32m   (...)\u001b[0m\n\u001b[0;32m     73\u001b[0m \n\u001b[0;32m     74\u001b[0m \u001b[39m\"\"\"\u001b[39;00m\n\u001b[0;32m     75\u001b[0m \u001b[39mif\u001b[39;00m check_finite:\n\u001b[1;32m---> 76\u001b[0m     A \u001b[39m=\u001b[39m np\u001b[39m.\u001b[39;49masarray_chkfinite(A)\n\u001b[0;32m     77\u001b[0m     B \u001b[39m=\u001b[39m np\u001b[39m.\u001b[39masarray_chkfinite(B)\n\u001b[0;32m     78\u001b[0m \u001b[39melse\u001b[39;00m:\n",
      "File \u001b[1;32mc:\\Users\\monac\\Documents\\GitHub\\RSA_Investigations\\env\\lib\\site-packages\\numpy\\lib\\function_base.py:628\u001b[0m, in \u001b[0;36masarray_chkfinite\u001b[1;34m(a, dtype, order)\u001b[0m\n\u001b[0;32m    626\u001b[0m a \u001b[39m=\u001b[39m asarray(a, dtype\u001b[39m=\u001b[39mdtype, order\u001b[39m=\u001b[39morder)\n\u001b[0;32m    627\u001b[0m \u001b[39mif\u001b[39;00m a\u001b[39m.\u001b[39mdtype\u001b[39m.\u001b[39mchar \u001b[39min\u001b[39;00m typecodes[\u001b[39m'\u001b[39m\u001b[39mAllFloat\u001b[39m\u001b[39m'\u001b[39m] \u001b[39mand\u001b[39;00m \u001b[39mnot\u001b[39;00m np\u001b[39m.\u001b[39misfinite(a)\u001b[39m.\u001b[39mall():\n\u001b[1;32m--> 628\u001b[0m     \u001b[39mraise\u001b[39;00m \u001b[39mValueError\u001b[39;00m(\n\u001b[0;32m    629\u001b[0m         \u001b[39m\"\u001b[39m\u001b[39marray must not contain infs or NaNs\u001b[39m\u001b[39m\"\u001b[39m)\n\u001b[0;32m    630\u001b[0m \u001b[39mreturn\u001b[39;00m a\n",
      "\u001b[1;31mValueError\u001b[0m: array must not contain infs or NaNs"
     ]
    }
   ],
   "source": [
    "distmats_w2 = dict()\n",
    "import itertools\n",
    "\n",
    "# compute Wasserstein ground metric for alpha=(0, 1, 2)\n",
    "for alpha in (0, 1, 2):\n",
    "    distmat_w2 = np.zeros((3, 3))\n",
    "    metric = GaussianStochasticMetric(alpha)\n",
    "    for i,j in itertools.combinations(range(3), 2): # Meaning: compute the distance between each pair of networks\n",
    "        \n",
    "        # the fit method expects a list [means, covs]\n",
    "        Xi = (means[i], covs[i]) # Meaning: Xi is a tuple of the means and covariances of network i\n",
    "        Xj = (means[j], covs[j]) # Meaning: Xj is a tuple of the means and covariances of network j\n",
    "\n",
    "\n",
    "        metric.fit(Xi, Xj)\n",
    "        distmat_w2[i,j] = metric.score(Xi, Xj)\n",
    "\n",
    "        # My score printing code\n",
    "        print(f\"alpha {alpha}: Network {i+1} vs Network {j+1} -> score {distmat_w2[i,j]}\") # Meaning: print the pair of networks\n",
    "\n",
    "    # dist matrix is symmetric\n",
    "    distmat_w2 += distmat_w2.T\n",
    "    distmats_w2[alpha] = distmat_w2"
   ]
  },
  {
   "cell_type": "code",
   "execution_count": null,
   "metadata": {},
   "outputs": [],
   "source": [
    "a[0][1]"
   ]
  },
  {
   "cell_type": "code",
   "execution_count": null,
   "metadata": {},
   "outputs": [],
   "source": [
    "x_nuron_avg.shape, y_last_50_avg.shape"
   ]
  },
  {
   "cell_type": "code",
   "execution_count": null,
   "metadata": {},
   "outputs": [],
   "source": [
    "X, y = x_nuron_avg[0], y_last_50_avg[0]\n",
    "\n",
    "classes = np.unique(y)"
   ]
  },
  {
   "cell_type": "code",
   "execution_count": null,
   "metadata": {},
   "outputs": [],
   "source": [
    "K = len(classes)\n",
    "print(classes, K)"
   ]
  },
  {
   "cell_type": "code",
   "execution_count": null,
   "metadata": {},
   "outputs": [],
   "source": [
    "means = np.stack([np.mean(X[y==label], 0) for label in classes], 0) "
   ]
  },
  {
   "cell_type": "code",
   "execution_count": null,
   "metadata": {},
   "outputs": [],
   "source": [
    "# covs = np.stack([np.cov(X[y==label].T) for label in classes], 0) # Meaning: compute the covariance of each class\n",
    "covs = np.stack([np.cov(X[y==labels].T) for labels in classes], 0)"
   ]
  },
  {
   "cell_type": "code",
   "execution_count": null,
   "metadata": {},
   "outputs": [],
   "source": [
    "covs"
   ]
  },
  {
   "cell_type": "code",
   "execution_count": null,
   "metadata": {},
   "outputs": [],
   "source": [
    "covs"
   ]
  }
 ],
 "metadata": {
  "kernelspec": {
   "display_name": "env",
   "language": "python",
   "name": "python3"
  },
  "language_info": {
   "codemirror_mode": {
    "name": "ipython",
    "version": 3
   },
   "file_extension": ".py",
   "mimetype": "text/x-python",
   "name": "python",
   "nbconvert_exporter": "python",
   "pygments_lexer": "ipython3",
   "version": "3.9.13"
  },
  "orig_nbformat": 4
 },
 "nbformat": 4,
 "nbformat_minor": 2
}

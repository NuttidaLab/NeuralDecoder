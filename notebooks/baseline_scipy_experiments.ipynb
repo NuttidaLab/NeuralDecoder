{
 "cells": [
  {
   "cell_type": "code",
   "execution_count": 1,
   "metadata": {},
   "outputs": [],
   "source": [
    "import os, sys; sys.path.append(os.path.abspath('../'))\n",
    "\n",
    "# Crawl the data directory\n",
    "import os\n",
    "\n",
    "data_dir = r'..\\data\\baseline'\n",
    "\n",
    "data_files = [os.path.join(data_dir, f) for f in os.listdir(data_dir) if f.endswith('.mat')]\n",
    "# loop over the files\n",
    "\n",
    "import scipy.io\n",
    "\n",
    "All_network_X = []\n",
    "All_network_y = []\n",
    "\n",
    "for f in data_files[:10]:\n",
    "    data = scipy.io.loadmat(f)\n",
    "    test_x = data['test_x']\n",
    "    test_out = data['test_out']\n",
    "\n",
    "    All_network_X.append(test_x)\n",
    "    All_network_y.append(test_out)\n",
    "\n",
    "import numpy as np\n",
    "\n",
    "All_network_X = np.array(All_network_X)\n",
    "All_network_y = np.array(All_network_y)"
   ]
  },
  {
   "cell_type": "code",
   "execution_count": 23,
   "metadata": {},
   "outputs": [
    {
     "name": "stdout",
     "output_type": "stream",
     "text": [
      "(10, 200, 300) (10, 200)\n"
     ]
    }
   ],
   "source": [
    "import numpy as np\n",
    "\n",
    "All_network_X = np.array(All_network_X)\n",
    "All_network_y = np.array(All_network_y)\n",
    "\n",
    "y_last_50_avg = All_network_y[:, :, :, -50:]\n",
    "y_last_50_avg.shape\n",
    "y_last_50_avg = np.average(y_last_50_avg, axis=3)\n",
    "y_last_50_avg.shape\n",
    "y_last_50_avg = y_last_50_avg.reshape(y_last_50_avg.shape[0], -1)\n",
    "y_last_50_avg.shape\n",
    "\n",
    "# for every value in y_last_50_avg, if it is greater than 0, set it to 1, else set it to -1\n",
    "y_last_50_avg[y_last_50_avg > 0] = 1\n",
    "y_last_50_avg[y_last_50_avg < 0] = -1\n",
    "\n",
    "x_nuron_avg = np.average(All_network_X, axis=3)\n",
    "x_nuron_avg.shape\n",
    "x_nuron_avg = x_nuron_avg.reshape(10, 4*50, 300)\n",
    "x_nuron_avg.shape\n",
    "print(x_nuron_avg.shape, y_last_50_avg.shape)"
   ]
  },
  {
   "cell_type": "code",
   "execution_count": 1,
   "metadata": {},
   "outputs": [
    {
     "ename": "NameError",
     "evalue": "name 'x_nuron_avg' is not defined",
     "output_type": "error",
     "traceback": [
      "\u001b[1;31m---------------------------------------------------------------------------\u001b[0m",
      "\u001b[1;31mNameError\u001b[0m                                 Traceback (most recent call last)",
      "Cell \u001b[1;32mIn[1], line 1\u001b[0m\n\u001b[1;32m----> 1\u001b[0m x_nuron_avg\u001b[39m.\u001b[39mshape\n",
      "\u001b[1;31mNameError\u001b[0m: name 'x_nuron_avg' is not defined"
     ]
    }
   ],
   "source": [
    "x_nuron_avg.shape"
   ]
  },
  {
   "cell_type": "code",
   "execution_count": 26,
   "metadata": {},
   "outputs": [
    {
     "data": {
      "text/plain": [
       "(10, 200, 300)"
      ]
     },
     "execution_count": 26,
     "metadata": {},
     "output_type": "execute_result"
    }
   ],
   "source": [
    "x = x_nuron_avg\n",
    "x.shape"
   ]
  },
  {
   "cell_type": "code",
   "execution_count": 27,
   "metadata": {},
   "outputs": [],
   "source": [
    "from scipy.spatial.distance import cdist, pdist"
   ]
  },
  {
   "cell_type": "code",
   "execution_count": 34,
   "metadata": {},
   "outputs": [
    {
     "ename": "ValueError",
     "evalue": "A 2-dimensional array must be passed.",
     "output_type": "error",
     "traceback": [
      "\u001b[1;31m---------------------------------------------------------------------------\u001b[0m",
      "\u001b[1;31mValueError\u001b[0m                                Traceback (most recent call last)",
      "Cell \u001b[1;32mIn[34], line 1\u001b[0m\n\u001b[1;32m----> 1\u001b[0m r \u001b[39m=\u001b[39m pdist(x, metric\u001b[39m=\u001b[39;49m\u001b[39m'\u001b[39;49m\u001b[39meuclidean\u001b[39;49m\u001b[39m'\u001b[39;49m)\n",
      "File \u001b[1;32mc:\\Users\\monac\\Documents\\GitHub\\RSA_Investigations\\env\\lib\\site-packages\\scipy\\spatial\\distance.py:2223\u001b[0m, in \u001b[0;36mpdist\u001b[1;34m(X, metric, out, **kwargs)\u001b[0m\n\u001b[0;32m   2221\u001b[0m s \u001b[39m=\u001b[39m X\u001b[39m.\u001b[39mshape\n\u001b[0;32m   2222\u001b[0m \u001b[39mif\u001b[39;00m \u001b[39mlen\u001b[39m(s) \u001b[39m!=\u001b[39m \u001b[39m2\u001b[39m:\n\u001b[1;32m-> 2223\u001b[0m     \u001b[39mraise\u001b[39;00m \u001b[39mValueError\u001b[39;00m(\u001b[39m'\u001b[39m\u001b[39mA 2-dimensional array must be passed.\u001b[39m\u001b[39m'\u001b[39m)\n\u001b[0;32m   2225\u001b[0m m, n \u001b[39m=\u001b[39m s\n\u001b[0;32m   2227\u001b[0m \u001b[39mif\u001b[39;00m callable(metric):\n",
      "\u001b[1;31mValueError\u001b[0m: A 2-dimensional array must be passed."
     ]
    }
   ],
   "source": [
    "r = pdist(x, metric='euclidean')"
   ]
  },
  {
   "cell_type": "code",
   "execution_count": 31,
   "metadata": {},
   "outputs": [
    {
     "data": {
      "text/plain": [
       "(200, 200)"
      ]
     },
     "execution_count": 31,
     "metadata": {},
     "output_type": "execute_result"
    }
   ],
   "source": [
    "r.shape"
   ]
  },
  {
   "cell_type": "code",
   "execution_count": 15,
   "metadata": {},
   "outputs": [
    {
     "data": {
      "text/plain": [
       "(200, 200)"
      ]
     },
     "execution_count": 15,
     "metadata": {},
     "output_type": "execute_result"
    }
   ],
   "source": [
    "r.shape"
   ]
  },
  {
   "cell_type": "code",
   "execution_count": null,
   "metadata": {},
   "outputs": [],
   "source": [
    "from sklearn.metrics import pairwise_distances\n",
    "results = []\n",
    "# metrics = ['cityblock', 'cosine', 'euclidean', 'l1', 'l2', 'manhattan']\n",
    "for model in All_network_X:\n",
    "    x = model.reshape(4, -1)\n",
    "    result = pairwise_distances(x, Y=x, metric=\"l2\")\n",
    "    results.append(result)"
   ]
  }
 ],
 "metadata": {
  "kernelspec": {
   "display_name": "env",
   "language": "python",
   "name": "python3"
  },
  "language_info": {
   "codemirror_mode": {
    "name": "ipython",
    "version": 3
   },
   "file_extension": ".py",
   "mimetype": "text/x-python",
   "name": "python",
   "nbconvert_exporter": "python",
   "pygments_lexer": "ipython3",
   "version": "3.9.13"
  },
  "orig_nbformat": 4
 },
 "nbformat": 4,
 "nbformat_minor": 2
}

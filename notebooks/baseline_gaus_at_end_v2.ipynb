{
 "cells": [
  {
   "cell_type": "code",
   "execution_count": 1,
   "metadata": {},
   "outputs": [],
   "source": [
    "import os, sys; sys.path.append(os.path.abspath('../'))"
   ]
  },
  {
   "cell_type": "code",
   "execution_count": 2,
   "metadata": {},
   "outputs": [],
   "source": [
    "# Crawl the data directory\n",
    "import os\n",
    "\n",
    "data_dir = r'..\\data\\baseline'\n",
    "\n",
    "data_files = [os.path.join(data_dir, f) for f in os.listdir(data_dir) if f.endswith('.mat')]\n",
    "# loop over the files\n",
    "\n",
    "import scipy.io\n",
    "\n",
    "All_network_X = []\n",
    "All_network_y = []\n",
    "\n",
    "for f in data_files[:10]:\n",
    "    data = scipy.io.loadmat(f)\n",
    "    test_x = data['test_x']\n",
    "    test_out = data['test_out']\n",
    "\n",
    "    All_network_X.append(test_x)\n",
    "    All_network_y.append(test_out)\n",
    "\n",
    "import numpy as np\n",
    "\n",
    "All_network_X = np.array(All_network_X)\n",
    "All_network_y = np.array(All_network_y)"
   ]
  },
  {
   "cell_type": "code",
   "execution_count": 8,
   "metadata": {},
   "outputs": [
    {
     "name": "stdout",
     "output_type": "stream",
     "text": [
      "(10, 200, 300) (10, 200)\n"
     ]
    }
   ],
   "source": [
    "y_last_50_avg = All_network_y[:, :, :, -50:]\n",
    "y_last_50_avg.shape\n",
    "y_last_50_avg = np.average(y_last_50_avg, axis=3)\n",
    "y_last_50_avg.shape\n",
    "y_last_50_avg = y_last_50_avg.reshape(y_last_50_avg.shape[0], -1)\n",
    "y_last_50_avg.shape\n",
    "\n",
    "# for every value in y_last_50_avg, if it is greater than 0, set it to 1, else set it to -1\n",
    "y_last_50_avg[y_last_50_avg > 0] = 1\n",
    "y_last_50_avg[y_last_50_avg < 0] = -1\n",
    "\n",
    "x_nuron_avg = np.average(All_network_X, axis=3)\n",
    "x_nuron_avg.shape\n",
    "x_nuron_avg = x_nuron_avg.reshape(10, 4*50, 300)\n",
    "x_nuron_avg.shape\n",
    "print(x_nuron_avg.shape, y_last_50_avg.shape)"
   ]
  },
  {
   "cell_type": "code",
   "execution_count": 14,
   "metadata": {},
   "outputs": [],
   "source": [
    "import itertools\n",
    "from inspector.dataset import SyntheticNetworks\n",
    "from matplotlib import pyplot as plt\n",
    "from netrep.metrics.stochastic import GaussianStochasticMetric"
   ]
  },
  {
   "cell_type": "code",
   "execution_count": 1,
   "metadata": {},
   "outputs": [
    {
     "ename": "NameError",
     "evalue": "name 'SyntheticNetworks' is not defined",
     "output_type": "error",
     "traceback": [
      "\u001b[1;31m---------------------------------------------------------------------------\u001b[0m",
      "\u001b[1;31mNameError\u001b[0m                                 Traceback (most recent call last)",
      "Cell \u001b[1;32mIn[1], line 2\u001b[0m\n\u001b[0;32m      1\u001b[0m \u001b[39m# create 10 synthetic networks\u001b[39;00m\n\u001b[1;32m----> 2\u001b[0m network_generator \u001b[39m=\u001b[39m SyntheticNetworks()\n\u001b[0;32m      3\u001b[0m networks_X, networks_y \u001b[39m=\u001b[39m network_generator\u001b[39m.\u001b[39mgenerate(networks\u001b[39m=\u001b[39m\u001b[39m3\u001b[39m, n_samples \u001b[39m=\u001b[39m \u001b[39m200\u001b[39m, n_classes \u001b[39m=\u001b[39m \u001b[39m2\u001b[39m, n_features \u001b[39m=\u001b[39m \u001b[39m300\u001b[39m)\n\u001b[0;32m      5\u001b[0m networks_X \u001b[39m=\u001b[39m np\u001b[39m.\u001b[39marray(networks_X)\n",
      "\u001b[1;31mNameError\u001b[0m: name 'SyntheticNetworks' is not defined"
     ]
    }
   ],
   "source": [
    "# create 10 synthetic networks\n",
    "network_generator = SyntheticNetworks()\n",
    "networks_X, networks_y = network_generator.generate(networks=10)\n",
    "\n",
    "networks_X = np.array(networks_X)\n",
    "networks_y = np.array(networks_y)"
   ]
  },
  {
   "cell_type": "code",
   "execution_count": 23,
   "metadata": {},
   "outputs": [
    {
     "data": {
      "text/plain": [
       "((10, 500, 2), (10, 500))"
      ]
     },
     "execution_count": 23,
     "metadata": {},
     "output_type": "execute_result"
    }
   ],
   "source": [
    "networks_X.shape, networks_y.shape"
   ]
  },
  {
   "cell_type": "code",
   "execution_count": 44,
   "metadata": {},
   "outputs": [
    {
     "name": "stdout",
     "output_type": "stream",
     "text": [
      "(10, 200, 2) (10, 200)\n"
     ]
    }
   ],
   "source": [
    "x_nuron_avg = x_nuron_avg[:, :, :2]\n",
    "y_last_50_avg = y_last_50_avg[:, :]\n",
    "\n",
    "print(x_nuron_avg.shape, y_last_50_avg.shape)"
   ]
  },
  {
   "cell_type": "code",
   "execution_count": 45,
   "metadata": {},
   "outputs": [],
   "source": [
    "# X1 = networks_X[0]\n",
    "# y1 = networks_y[0]\n",
    "\n",
    "# X2 = networks_X[1]\n",
    "# y2 = networks_y[1]\n",
    "\n",
    "# X3 = networks_X[2]\n",
    "# y3 = networks_y[2]\n",
    "\n",
    "X1 = x_nuron_avg[0]\n",
    "y1 = y_last_50_avg[0]\n",
    "\n",
    "X2 = x_nuron_avg[1]\n",
    "y2 = y_last_50_avg[1]\n",
    "\n",
    "X3 = x_nuron_avg[2]\n",
    "y3 = y_last_50_avg[2]"
   ]
  },
  {
   "cell_type": "code",
   "execution_count": 46,
   "metadata": {},
   "outputs": [
    {
     "data": {
      "text/plain": [
       "(200, 2)"
      ]
     },
     "execution_count": 46,
     "metadata": {},
     "output_type": "execute_result"
    }
   ],
   "source": [
    "X1.shape"
   ]
  },
  {
   "cell_type": "code",
   "execution_count": 47,
   "metadata": {},
   "outputs": [
    {
     "name": "stdout",
     "output_type": "stream",
     "text": [
      "(means_x1.shape, covs_x2.shape) ((2, 2), (2, 2, 2))\n"
     ]
    }
   ],
   "source": [
    "def get_means_and_covs(\n",
    "    X,\n",
    "    y\n",
    "):\n",
    "    \"\"\"Helper method that computes class-conditional means and covariances.\"\"\"\n",
    "    \n",
    "    classes = np.unique(y)\n",
    "    K = len(classes)\n",
    "    means = np.stack([np.mean(X[y==k], 0) for k in classes], 0) # Meaning: compute the mean of each class\n",
    "    covs = np.stack([np.cov(X[y==k].T) for k in classes], 0) # Meaning: compute the covariance of each class\n",
    "    return means, covs\n",
    "\n",
    "# compute the class-conditional means and covariances for each network\n",
    "means_x1, covs_x1 = get_means_and_covs(X1, y1)\n",
    "means_x2, covs_x2 = get_means_and_covs(X2, y2)\n",
    "means_x3, covs_x3 = get_means_and_covs(X3, y3)\n",
    "\n",
    "print(\"(means_x1.shape, covs_x2.shape)\", (means_x1.shape, covs_x1.shape))\n",
    "\n",
    "# compile into mu and sigma dicts for easier processing\n",
    "means = (means_x1, means_x2, means_x3)\n",
    "covs = (covs_x1, covs_x2, covs_x3)"
   ]
  },
  {
   "cell_type": "code",
   "execution_count": 48,
   "metadata": {},
   "outputs": [
    {
     "data": {
      "text/plain": [
       "False"
      ]
     },
     "execution_count": 48,
     "metadata": {},
     "output_type": "execute_result"
    }
   ],
   "source": [
    "# check NaN in array\n",
    "np.isnan(covs_x3).any()"
   ]
  },
  {
   "cell_type": "code",
   "execution_count": 49,
   "metadata": {},
   "outputs": [
    {
     "name": "stdout",
     "output_type": "stream",
     "text": [
      "alpha 0: Network 1 vs Network 2 -> score 0.009619173307805385\n",
      "alpha 0: Network 1 vs Network 3 -> score 0.022817069798710395\n",
      "alpha 0: Network 2 vs Network 3 -> score 0.029319219314232748\n",
      "alpha 1: Network 1 vs Network 2 -> score 2.069198310075465\n",
      "alpha 1: Network 1 vs Network 3 -> score 1.5671642000084665\n",
      "alpha 1: Network 2 vs Network 3 -> score 0.5025799962098607\n",
      "alpha 2: Network 1 vs Network 2 -> score 2.9262400954512597\n",
      "alpha 2: Network 1 vs Network 3 -> score 2.21618378403931\n",
      "alpha 2: Network 2 vs Network 3 -> score 0.7100608668059486\n"
     ]
    }
   ],
   "source": [
    "distmats_w2 = dict()\n",
    "\n",
    "# compute Wasserstein ground metric for alpha=(0, 1, 2)\n",
    "for alpha in (0, 1, 2):\n",
    "    distmat_w2 = np.zeros((3, 3))\n",
    "    metric = GaussianStochasticMetric(alpha)\n",
    "    for i,j in itertools.combinations(range(3), 2): # Meaning: compute the distance between each pair of networks\n",
    "        \n",
    "        # the fit method expects a list [means, covs]\n",
    "        Xi = (means[i], covs[i]) # Meaning: Xi is a tuple of the means and covariances of network i\n",
    "        Xj = (means[j], covs[j]) # Meaning: Xj is a tuple of the means and covariances of network j\n",
    "\n",
    "\n",
    "        metric.fit(Xi, Xj)\n",
    "        distmat_w2[i,j] = metric.score(Xi, Xj)\n",
    "\n",
    "        # My score printing code\n",
    "        print(f\"alpha {alpha}: Network {i+1} vs Network {j+1} -> score {distmat_w2[i,j]}\") # Meaning: print the pair of networks\n",
    "\n",
    "    # dist matrix is symmetric\n",
    "    distmat_w2 += distmat_w2.T\n",
    "    distmats_w2[alpha] = distmat_w2"
   ]
  },
  {
   "cell_type": "code",
   "execution_count": 50,
   "metadata": {},
   "outputs": [
    {
     "data": {
      "image/png": "[encoded data removed]",
      "text/plain": [
       "<Figure size 1000x400 with 3 Axes>"
      ]
     },
     "metadata": {},
     "output_type": "display_data"
    }
   ],
   "source": [
    "# plot the distmats\n",
    "titles = [r\"$\\mathcal{W}_2^{\\alpha=0}$\" \" (covariance only)\",\n",
    "          r\"$\\mathcal{W}_2^{\\alpha=1}$\" \" ($\\mathcal{W}_2$)\",\n",
    "          r\"$\\mathcal{W}_2^{\\alpha=2}$\" \" (mean only)\"]\n",
    "\n",
    "# All heatmaps share same colorbar limits\n",
    "_VMAX = max([distmats_w2[k].max() for k in distmats_w2])\n",
    "_VMIN = min([distmats_w2[k].min() for k in distmats_w2])\n",
    "\n",
    "fig, ax = plt.subplots(1, 3, figsize=(10, 4), sharex=\"all\", sharey=\"all\")\n",
    "\n",
    "for i, a in enumerate(distmats_w2.keys()):\n",
    "    im = ax[i].imshow(distmats_w2[a], vmin=_VMIN, vmax=_VMAX)\n",
    "    ax[i].set(title=titles[i])\n",
    "ax[0].set(xticklabels=[], yticklabels=[], xlabel=\"Network i\", ylabel=\"Network j\");\n",
    "# plt.colorbar()"
   ]
  },
  {
   "attachments": {},
   "cell_type": "markdown",
   "metadata": {},
   "source": [
    "# So it works when there are 2 Features"
   ]
  },
  {
   "attachments": {},
   "cell_type": "markdown",
   "metadata": {},
   "source": [
    "## Checking with different number of features:\n",
    "\n",
    "Works with n_features 2, 3, 50, 80, 90, 99, 100:102, 100:199,"
   ]
  },
  {
   "attachments": {},
   "cell_type": "markdown",
   "metadata": {},
   "source": [
    "0 to 100 does not work, "
   ]
  },
  {
   "cell_type": "code",
   "execution_count": 138,
   "metadata": {},
   "outputs": [
    {
     "name": "stdout",
     "output_type": "stream",
     "text": [
      "(10, 200, 300) (10, 200)\n"
     ]
    }
   ],
   "source": [
    "y_last_50_avg = All_network_y[:, :, :, -50:]\n",
    "y_last_50_avg.shape\n",
    "y_last_50_avg = np.average(y_last_50_avg, axis=3)\n",
    "y_last_50_avg.shape\n",
    "y_last_50_avg = y_last_50_avg.reshape(y_last_50_avg.shape[0], -1)\n",
    "y_last_50_avg.shape\n",
    "\n",
    "# for every value in y_last_50_avg, if it is greater than 0, set it to 1, else set it to -1\n",
    "y_last_50_avg[y_last_50_avg > 0] = 1\n",
    "y_last_50_avg[y_last_50_avg < 0] = -1\n",
    "\n",
    "x_nuron_avg = np.average(All_network_X, axis=3)\n",
    "x_nuron_avg.shape\n",
    "x_nuron_avg = x_nuron_avg.reshape(10, 4*50, 300)\n",
    "print(x_nuron_avg.shape, y_last_50_avg.shape)"
   ]
  },
  {
   "cell_type": "code",
   "execution_count": 211,
   "metadata": {},
   "outputs": [],
   "source": [
    "x_nuron_avg_t = x_nuron_avg[:, :, 100:300]\n",
    "y_last_50_avg = y_last_50_avg[:, :]"
   ]
  },
  {
   "cell_type": "code",
   "execution_count": 212,
   "metadata": {},
   "outputs": [
    {
     "name": "stdout",
     "output_type": "stream",
     "text": [
      "False\n",
      "True\n",
      "False\n"
     ]
    }
   ],
   "source": [
    "# check if there is any NaN in the array\n",
    "print(np.isnan(x_nuron_avg_t).any())\n",
    "# check if there is any infinte in the array\n",
    "print(np.asarray_chkfinite(x_nuron_avg_t).any())\n",
    "# Check if there is infinite in the array\n",
    "print(np.isinf(x_nuron_avg_t).any())"
   ]
  },
  {
   "cell_type": "code",
   "execution_count": 213,
   "metadata": {},
   "outputs": [
    {
     "data": {
      "text/plain": [
       "(10, 200, 200)"
      ]
     },
     "execution_count": 213,
     "metadata": {},
     "output_type": "execute_result"
    }
   ],
   "source": [
    "np.asarray_chkfinite(x_nuron_avg_t).shape"
   ]
  },
  {
   "cell_type": "code",
   "execution_count": 214,
   "metadata": {},
   "outputs": [
    {
     "name": "stdout",
     "output_type": "stream",
     "text": [
      "(10, 200, 200) (10, 200)\n",
      "(means_x1.shape, covs_x2.shape) ((2, 200), (2, 200, 200))\n"
     ]
    }
   ],
   "source": [
    "print(x_nuron_avg_t.shape, y_last_50_avg.shape)\n",
    "# X1 = networks_X[0]\n",
    "# y1 = networks_y[0]\n",
    "\n",
    "# X2 = networks_X[1]\n",
    "# y2 = networks_y[1]\n",
    "\n",
    "# X3 = networks_X[2]\n",
    "# y3 = networks_y[2]\n",
    "\n",
    "X1 = x_nuron_avg_t[0]\n",
    "y1 = y_last_50_avg[0]\n",
    "\n",
    "X2 = x_nuron_avg_t[1]\n",
    "y2 = y_last_50_avg[1]\n",
    "\n",
    "X3 = x_nuron_avg_t[2]\n",
    "y3 = y_last_50_avg[2]\n",
    "\n",
    "X4 = x_nuron_avg_t[3]\n",
    "y4 = y_last_50_avg[3]\n",
    "\n",
    "X5 = x_nuron_avg_t[4]\n",
    "y5 = y_last_50_avg[4]\n",
    "\n",
    "X6 = x_nuron_avg_t[5]\n",
    "y6 = y_last_50_avg[5]\n",
    "\n",
    "X7 = x_nuron_avg_t[6]\n",
    "y7 = y_last_50_avg[6]\n",
    "\n",
    "X8 = x_nuron_avg_t[7]\n",
    "y8 = y_last_50_avg[7]\n",
    "\n",
    "X9 = x_nuron_avg_t[8]\n",
    "y9 = y_last_50_avg[8]\n",
    "\n",
    "X10 = x_nuron_avg_t[9]\n",
    "y10 = y_last_50_avg[9]\n",
    "\n",
    "X1.shape\n",
    "def get_means_and_covs(\n",
    "    X,\n",
    "    y\n",
    "):\n",
    "    \"\"\"Helper method that computes class-conditional means and covariances.\"\"\"\n",
    "    \n",
    "    classes = np.unique(y)\n",
    "    K = len(classes)\n",
    "    means = np.stack([np.mean(X[y==k], 0) for k in classes], 0) # Meaning: compute the mean of each class\n",
    "    covs = np.stack([np.cov(X[y==k].T) for k in classes], 0) # Meaning: compute the covariance of each class\n",
    "    return means, covs\n",
    "\n",
    "# compute the class-conditional means and covariances for each network\n",
    "means_x1, covs_x1 = get_means_and_covs(X1, y1)\n",
    "means_x2, covs_x2 = get_means_and_covs(X2, y2)\n",
    "means_x3, covs_x3 = get_means_and_covs(X3, y3)\n",
    "means_x4, covs_x4 = get_means_and_covs(X4, y4)\n",
    "means_x5, covs_x5 = get_means_and_covs(X5, y5)\n",
    "means_x6, covs_x6 = get_means_and_covs(X6, y6)\n",
    "means_x7, covs_x7 = get_means_and_covs(X7, y7)\n",
    "means_x8, covs_x8 = get_means_and_covs(X8, y8)\n",
    "means_x9, covs_x9 = get_means_and_covs(X9, y9)\n",
    "means_x10, covs_x10 = get_means_and_covs(X10, y10)\n",
    "\n",
    "print(\"(means_x1.shape, covs_x2.shape)\", (means_x1.shape, covs_x1.shape))\n",
    "\n",
    "# compile into mu and sigma dicts for easier processing\n",
    "# means = (means_x1, means_x2, means_x3)\n",
    "# covs = (covs_x1, covs_x2, covs_x3)\n",
    "means = (means_x1, means_x2, means_x3, means_x4, means_x5, means_x6, means_x7, means_x8, means_x9, means_x10)\n",
    "covs = (covs_x1, covs_x2, covs_x3, covs_x4, covs_x5, covs_x6, covs_x7, covs_x8, covs_x9, covs_x10)"
   ]
  },
  {
   "cell_type": "code",
   "execution_count": 215,
   "metadata": {},
   "outputs": [
    {
     "data": {
      "text/plain": [
       "(200, 200)"
      ]
     },
     "execution_count": 215,
     "metadata": {},
     "output_type": "execute_result"
    }
   ],
   "source": [
    "covs_x1[1].shape"
   ]
  },
  {
   "cell_type": "code",
   "execution_count": 216,
   "metadata": {},
   "outputs": [
    {
     "data": {
      "text/plain": [
       "array([[ 0.37320143,  0.37880127,  0.38062736, ..., -0.06744272,\n",
       "        -0.06799666, -0.07035216],\n",
       "       [ 0.37880127,  0.38616045,  0.38873877, ..., -0.06868164,\n",
       "        -0.06944515, -0.07213072],\n",
       "       [ 0.38062736,  0.38873877,  0.39276786, ..., -0.07150454,\n",
       "        -0.07229596, -0.07545966],\n",
       "       ...,\n",
       "       [-0.06744272, -0.06868164, -0.07150454, ...,  0.13262921,\n",
       "         0.12997184,  0.1278809 ],\n",
       "       [-0.06799666, -0.06944515, -0.07229596, ...,  0.12997184,\n",
       "         0.12913885,  0.1276435 ],\n",
       "       [-0.07035216, -0.07213072, -0.07545966, ...,  0.1278809 ,\n",
       "         0.1276435 ,  0.12761412]])"
      ]
     },
     "execution_count": 216,
     "metadata": {},
     "output_type": "execute_result"
    }
   ],
   "source": [
    "covs_x2[1]"
   ]
  },
  {
   "cell_type": "code",
   "execution_count": 217,
   "metadata": {},
   "outputs": [
    {
     "name": "stdout",
     "output_type": "stream",
     "text": [
      "(array([-1.74726219e-15, -1.19141813e-15, -1.07935338e-15, -7.34045245e-16,\n",
      "       -6.82311445e-16, -6.20499179e-16, -5.93778065e-16, -5.81740938e-16,\n",
      "       -5.56247503e-16, -5.13744073e-16, -4.87467238e-16, -4.58716116e-16,\n",
      "       -4.29927851e-16, -4.27191607e-16, -3.98208091e-16, -3.81175644e-16,\n",
      "       -3.77720048e-16, -3.62791943e-16, -3.37203427e-16, -3.20091765e-16,\n",
      "       -3.15053695e-16, -3.05158594e-16, -2.90183917e-16, -2.85207070e-16,\n",
      "       -2.53574796e-16, -2.53399368e-16, -2.43736331e-16, -2.43012154e-16,\n",
      "       -2.21419637e-16, -2.01861742e-16, -1.97850548e-16, -1.96991357e-16,\n",
      "       -1.86070787e-16, -1.74693952e-16, -1.64658684e-16, -1.58451688e-16,\n",
      "       -1.51660063e-16, -1.33890439e-16, -1.31795444e-16, -1.11131053e-16,\n",
      "       -9.73058993e-17, -9.44851978e-17, -9.18011769e-17, -8.77657113e-17,\n",
      "       -7.68840126e-17, -6.53134874e-17, -6.24195709e-17, -4.86583053e-17,\n",
      "       -3.06566592e-17, -2.57906015e-17, -2.05130297e-17,  3.91864303e-18,\n",
      "        4.34537574e-18,  9.20044174e-18,  1.26923018e-17,  2.58497594e-17,\n",
      "        4.55044595e-17,  4.64866132e-17,  4.66711417e-17,  5.38323951e-17,\n",
      "        6.68644629e-17,  8.34057026e-17,  9.65764648e-17,  9.70733433e-17,\n",
      "        1.00045648e-16,  1.11078003e-16,  1.20307093e-16,  1.38539518e-16,\n",
      "        1.42550355e-16,  1.51452138e-16,  1.53764335e-16,  1.66127296e-16,\n",
      "        1.73465985e-16,  1.76731405e-16,  1.87837204e-16,  1.93258684e-16,\n",
      "        2.08555484e-16,  2.35002508e-16,  2.35374471e-16,  2.55035031e-16,\n",
      "        2.59130901e-16,  2.74799516e-16,  2.77914684e-16,  2.96597939e-16,\n",
      "        2.99698552e-16,  3.25064245e-16,  3.40936179e-16,  3.64230021e-16,\n",
      "        3.71121842e-16,  3.80137462e-16,  4.13671989e-16,  4.32988086e-16,\n",
      "        4.50875950e-16,  4.95708109e-16,  5.39960510e-16,  5.52820923e-16,\n",
      "        6.01995427e-16,  6.72908736e-16,  7.02840226e-16,  8.97019538e-16,\n",
      "        1.61672956e-15,  1.36031542e-04,  1.56099170e-04,  1.69836290e-04,\n",
      "        2.06166180e-04,  2.25777210e-04,  2.42228240e-04,  2.47534213e-04,\n",
      "        2.59547863e-04,  2.83258467e-04,  2.97608458e-04,  3.19156506e-04,\n",
      "        3.44801619e-04,  3.77716217e-04,  4.06960048e-04,  4.23202000e-04,\n",
      "        4.50277763e-04,  4.66269620e-04,  4.79637905e-04,  5.11046339e-04,\n",
      "        5.38111331e-04,  5.82459662e-04,  5.91526424e-04,  6.21133505e-04,\n",
      "        6.59206730e-04,  6.88368253e-04,  7.15125965e-04,  7.57471750e-04,\n",
      "        7.88289798e-04,  8.03641043e-04,  8.68756664e-04,  9.02697658e-04,\n",
      "        9.51776517e-04,  9.90615694e-04,  1.02563180e-03,  1.04806497e-03,\n",
      "        1.05788001e-03,  1.17849592e-03,  1.22769104e-03,  1.32798018e-03,\n",
      "        1.41747064e-03,  1.49435429e-03,  1.52815606e-03,  1.69663132e-03,\n",
      "        1.73550536e-03,  1.80900667e-03,  1.90402187e-03,  2.08147273e-03,\n",
      "        2.10468104e-03,  2.20989052e-03,  2.25037306e-03,  2.50424741e-03,\n",
      "        2.76462370e-03,  2.94932389e-03,  3.06184796e-03,  3.37454370e-03,\n",
      "        3.49567004e-03,  3.86108587e-03,  4.31318403e-03,  4.83083289e-03,\n",
      "        4.88180217e-03,  5.22180880e-03,  5.65400344e-03,  6.14875511e-03,\n",
      "        6.39537000e-03,  6.96140422e-03,  7.33601721e-03,  8.61751062e-03,\n",
      "        9.40380395e-03,  1.01901410e-02,  1.11548993e-02,  1.26888348e-02,\n",
      "        1.49919047e-02,  1.53365176e-02,  1.83651032e-02,  2.24359668e-02,\n",
      "        2.40878054e-02,  2.49372165e-02,  2.71734700e-02,  3.12027576e-02,\n",
      "        3.82470747e-02,  4.33117496e-02,  4.41460235e-02,  6.29305139e-02,\n",
      "        6.86851009e-02,  8.04135897e-02,  9.60787591e-02,  1.17475250e-01,\n",
      "        1.51489983e-01,  1.55474418e-01,  2.10325186e-01,  3.42624734e-01,\n",
      "        3.86495705e-01,  5.99356479e-01,  6.53640380e-01,  8.79605146e-01,\n",
      "        1.40777697e+00,  2.55244547e+00,  7.87824071e+00,  1.54038768e+01]), array([[-4.90917225e-01,  4.24718506e-08, -6.43345112e-14, ...,\n",
      "        -5.49464460e-02, -1.02387388e-01, -1.23010360e-01],\n",
      "       [ 5.26540331e-01, -2.98799431e-01,  8.62817471e-02, ...,\n",
      "        -5.59878409e-02, -1.04921452e-01, -1.25855726e-01],\n",
      "       [ 8.77210355e-02,  1.95461390e-01, -3.04656901e-01, ...,\n",
      "        -5.75938120e-02, -1.05134918e-01, -1.28367495e-01],\n",
      "       ...,\n",
      "       [-2.16904246e-02, -4.71352895e-02,  5.03999500e-02, ...,\n",
      "        -5.90882222e-02, -4.74630945e-02,  6.04275181e-02],\n",
      "       [ 8.03874390e-03, -3.08279265e-02, -7.35004273e-02, ...,\n",
      "        -5.25554193e-02, -4.68163809e-02,  5.99406739e-02],\n",
      "       [-1.56543088e-02,  5.62723718e-02,  3.35268008e-02, ...,\n",
      "        -4.74192107e-02, -4.55843050e-02,  6.00184992e-02]]))\n"
     ]
    },
    {
     "name": "stderr",
     "output_type": "stream",
     "text": [
      "C:\\Users\\monac\\AppData\\Local\\Temp\\ipykernel_16932\\2896328637.py:4: RuntimeWarning: invalid value encountered in sqrt\n",
      "  np.sqrt(a)\n"
     ]
    },
    {
     "data": {
      "text/plain": [
       "array([           nan,            nan,            nan,            nan,\n",
       "                  nan,            nan,            nan,            nan,\n",
       "                  nan,            nan,            nan,            nan,\n",
       "                  nan,            nan,            nan,            nan,\n",
       "                  nan,            nan,            nan,            nan,\n",
       "                  nan,            nan,            nan,            nan,\n",
       "                  nan,            nan,            nan,            nan,\n",
       "                  nan,            nan,            nan,            nan,\n",
       "                  nan,            nan,            nan,            nan,\n",
       "                  nan,            nan,            nan,            nan,\n",
       "                  nan,            nan,            nan,            nan,\n",
       "                  nan,            nan,            nan,            nan,\n",
       "                  nan,            nan,            nan, 1.97955627e-09,\n",
       "       2.08455648e-09, 3.03322300e-09, 3.56262569e-09, 5.08426587e-09,\n",
       "       6.74569933e-09, 6.81810921e-09, 6.83162804e-09, 7.33705630e-09,\n",
       "       8.17706933e-09, 9.13267226e-09, 9.82733254e-09, 9.85258054e-09,\n",
       "       1.00022822e-08, 1.05393550e-08, 1.09684590e-08, 1.17702812e-08,\n",
       "       1.19394453e-08, 1.23065892e-08, 1.24001748e-08, 1.28890378e-08,\n",
       "       1.31706486e-08, 1.32940365e-08, 1.37053714e-08, 1.39017511e-08,\n",
       "       1.44414502e-08, 1.53297915e-08, 1.53419188e-08, 1.59698162e-08,\n",
       "       1.60975433e-08, 1.65770780e-08, 1.66707733e-08, 1.72220190e-08,\n",
       "       1.73118038e-08, 1.80295381e-08, 1.84644572e-08, 1.90848113e-08,\n",
       "       1.92645229e-08, 1.94971142e-08, 2.03389279e-08, 2.08083658e-08,\n",
       "       2.12338397e-08, 2.22645033e-08, 2.32370504e-08, 2.35121442e-08,\n",
       "       2.45355951e-08, 2.59404845e-08, 2.65111340e-08, 2.99502844e-08,\n",
       "       4.02085756e-08, 1.16632561e-02, 1.24939654e-02, 1.30321253e-02,\n",
       "       1.43584881e-02, 1.50258847e-02, 1.55636834e-02, 1.57332200e-02,\n",
       "       1.61104892e-02, 1.68302842e-02, 1.72513321e-02, 1.78649519e-02,\n",
       "       1.85688346e-02, 1.94349226e-02, 2.01732508e-02, 2.05718740e-02,\n",
       "       2.12197494e-02, 2.15932772e-02, 2.19006371e-02, 2.26063340e-02,\n",
       "       2.31972268e-02, 2.41342011e-02, 2.43213162e-02, 2.49225501e-02,\n",
       "       2.56750215e-02, 2.62367729e-02, 2.67418392e-02, 2.75222047e-02,\n",
       "       2.80764990e-02, 2.83485633e-02, 2.94746783e-02, 3.00449273e-02,\n",
       "       3.08508755e-02, 3.14740479e-02, 3.20254868e-02, 3.23738315e-02,\n",
       "       3.25250674e-02, 3.43292284e-02, 3.50384224e-02, 3.64414624e-02,\n",
       "       3.76493112e-02, 3.86568790e-02, 3.90916367e-02, 4.11901847e-02,\n",
       "       4.16593971e-02, 4.25324191e-02, 4.36350990e-02, 4.56231600e-02,\n",
       "       4.58768029e-02, 4.70094727e-02, 4.74380971e-02, 5.00424561e-02,\n",
       "       5.25796890e-02, 5.43076780e-02, 5.53339675e-02, 5.80908228e-02,\n",
       "       5.91241917e-02, 6.21376365e-02, 6.56748356e-02, 6.95041934e-02,\n",
       "       6.98698946e-02, 7.22620841e-02, 7.51931077e-02, 7.84139982e-02,\n",
       "       7.99710573e-02, 8.34350299e-02, 8.56505529e-02, 9.28305479e-02,\n",
       "       9.69732125e-02, 1.00946228e-01, 1.05616757e-01, 1.12644728e-01,\n",
       "       1.22441434e-01, 1.23840695e-01, 1.35517907e-01, 1.49786404e-01,\n",
       "       1.55202466e-01, 1.57915219e-01, 1.64843774e-01, 1.76643023e-01,\n",
       "       1.95568593e-01, 2.08114751e-01, 2.10109551e-01, 2.50859550e-01,\n",
       "       2.62078425e-01, 2.83572900e-01, 3.09965739e-01, 3.42746626e-01,\n",
       "       3.89217142e-01, 3.94302445e-01, 4.58612239e-01, 5.85341554e-01,\n",
       "       6.21687787e-01, 7.74181167e-01, 8.08480291e-01, 9.37872671e-01,\n",
       "       1.18649777e+00, 1.59763746e+00, 2.80682039e+00, 3.92477729e+00])"
      ]
     },
     "execution_count": 217,
     "metadata": {},
     "output_type": "execute_result"
    }
   ],
   "source": [
    "a, b = np.linalg.eigh(covs_x2[1])\n",
    "print(np.linalg.eigh(covs_x2[1]))\n",
    "\n",
    "np.sqrt(a)"
   ]
  },
  {
   "cell_type": "code",
   "execution_count": 209,
   "metadata": {},
   "outputs": [
    {
     "ename": "ValueError",
     "evalue": "array must not contain infs or NaNs",
     "output_type": "error",
     "traceback": [
      "\u001b[1;31m---------------------------------------------------------------------------\u001b[0m",
      "\u001b[1;31mValueError\u001b[0m                                Traceback (most recent call last)",
      "Cell \u001b[1;32mIn[209], line 12\u001b[0m\n\u001b[0;32m      8\u001b[0m Xi \u001b[39m=\u001b[39m (means[i], covs[i]) \u001b[39m# Meaning: Xi is a tuple of the means and covariances of network i\u001b[39;00m\n\u001b[0;32m      9\u001b[0m Xj \u001b[39m=\u001b[39m (means[j], covs[j]) \u001b[39m# Meaning: Xj is a tuple of the means and covariances of network j\u001b[39;00m\n\u001b[1;32m---> 12\u001b[0m metric\u001b[39m.\u001b[39;49mfit(Xi, Xj)\n\u001b[0;32m     13\u001b[0m distmat_w2[i,j] \u001b[39m=\u001b[39m metric\u001b[39m.\u001b[39mscore(Xi, Xj)\n\u001b[0;32m     15\u001b[0m \u001b[39m# My score printing code\u001b[39;00m\n",
      "File \u001b[1;32mc:\\users\\monac\\documents\\github\\netrep\\netrep\\metrics\\stochastic.py:100\u001b[0m, in \u001b[0;36mGaussianStochasticMetric.fit\u001b[1;34m(self, X, Y)\u001b[0m\n\u001b[0;32m     97\u001b[0m \u001b[39melif\u001b[39;00m \u001b[39mself\u001b[39m\u001b[39m.\u001b[39minit \u001b[39m==\u001b[39m \u001b[39m\"\u001b[39m\u001b[39mrand\u001b[39m\u001b[39m\"\u001b[39m:\n\u001b[0;32m     98\u001b[0m     init_T \u001b[39m=\u001b[39m rand_orth(means_X\u001b[39m.\u001b[39mshape[\u001b[39m1\u001b[39m], random_state\u001b[39m=\u001b[39m\u001b[39mself\u001b[39m\u001b[39m.\u001b[39m_rs)\n\u001b[1;32m--> 100\u001b[0m T, loss_hist \u001b[39m=\u001b[39m _fit_gaussian_alignment(\n\u001b[0;32m    101\u001b[0m     means_X, means_Y, covs_X, covs_Y, init_T,\n\u001b[0;32m    102\u001b[0m     \u001b[39mself\u001b[39;49m\u001b[39m.\u001b[39;49malpha, \u001b[39mself\u001b[39;49m\u001b[39m.\u001b[39;49mgroup, \u001b[39mself\u001b[39;49m\u001b[39m.\u001b[39;49mniter, \u001b[39mself\u001b[39;49m\u001b[39m.\u001b[39;49mtol\n\u001b[0;32m    103\u001b[0m )\n\u001b[0;32m    104\u001b[0m \u001b[39mif\u001b[39;00m best_loss \u001b[39m>\u001b[39m loss_hist[\u001b[39m-\u001b[39m\u001b[39m1\u001b[39m]:\n\u001b[0;32m    105\u001b[0m     best_loss \u001b[39m=\u001b[39m loss_hist[\u001b[39m-\u001b[39m\u001b[39m1\u001b[39m]\n",
      "File \u001b[1;32mc:\\users\\monac\\documents\\github\\netrep\\netrep\\metrics\\stochastic.py:374\u001b[0m, in \u001b[0;36m_fit_gaussian_alignment\u001b[1;34m(means_X, means_Y, covs_X, covs_Y, T, alpha, group, niter, tol)\u001b[0m\n\u001b[0;32m    371\u001b[0m loss_hist \u001b[39m=\u001b[39m []\n\u001b[0;32m    373\u001b[0m \u001b[39mfor\u001b[39;00m i \u001b[39min\u001b[39;00m \u001b[39mrange\u001b[39m(niter):\n\u001b[1;32m--> 374\u001b[0m     Qs \u001b[39m=\u001b[39m [align(T\u001b[39m.\u001b[39mT \u001b[39m@\u001b[39m sy, sx, group\u001b[39m=\u001b[39m\u001b[39m\"\u001b[39m\u001b[39morth\u001b[39m\u001b[39m\"\u001b[39m) \u001b[39mfor\u001b[39;00m sx, sy \u001b[39min\u001b[39;00m \u001b[39mzip\u001b[39m(sX, sY)]\n\u001b[0;32m    375\u001b[0m     A \u001b[39m=\u001b[39m np\u001b[39m.\u001b[39mrow_stack(\n\u001b[0;32m    376\u001b[0m         [alpha \u001b[39m*\u001b[39m means_X] \u001b[39m+\u001b[39m\n\u001b[0;32m    377\u001b[0m         [(\u001b[39m2\u001b[39m \u001b[39m-\u001b[39m alpha) \u001b[39m*\u001b[39m sx \u001b[39mfor\u001b[39;00m sx \u001b[39min\u001b[39;00m sX]\n\u001b[0;32m    378\u001b[0m     )\n\u001b[0;32m    379\u001b[0m     r_sY \u001b[39m=\u001b[39m []\n",
      "File \u001b[1;32mc:\\users\\monac\\documents\\github\\netrep\\netrep\\metrics\\stochastic.py:374\u001b[0m, in \u001b[0;36m<listcomp>\u001b[1;34m(.0)\u001b[0m\n\u001b[0;32m    371\u001b[0m loss_hist \u001b[39m=\u001b[39m []\n\u001b[0;32m    373\u001b[0m \u001b[39mfor\u001b[39;00m i \u001b[39min\u001b[39;00m \u001b[39mrange\u001b[39m(niter):\n\u001b[1;32m--> 374\u001b[0m     Qs \u001b[39m=\u001b[39m [align(T\u001b[39m.\u001b[39;49mT \u001b[39m@\u001b[39;49m sy, sx, group\u001b[39m=\u001b[39;49m\u001b[39m\"\u001b[39;49m\u001b[39morth\u001b[39;49m\u001b[39m\"\u001b[39;49m) \u001b[39mfor\u001b[39;00m sx, sy \u001b[39min\u001b[39;00m \u001b[39mzip\u001b[39m(sX, sY)]\n\u001b[0;32m    375\u001b[0m     A \u001b[39m=\u001b[39m np\u001b[39m.\u001b[39mrow_stack(\n\u001b[0;32m    376\u001b[0m         [alpha \u001b[39m*\u001b[39m means_X] \u001b[39m+\u001b[39m\n\u001b[0;32m    377\u001b[0m         [(\u001b[39m2\u001b[39m \u001b[39m-\u001b[39m alpha) \u001b[39m*\u001b[39m sx \u001b[39mfor\u001b[39;00m sx \u001b[39min\u001b[39;00m sX]\n\u001b[0;32m    378\u001b[0m     )\n\u001b[0;32m    379\u001b[0m     r_sY \u001b[39m=\u001b[39m []\n",
      "File \u001b[1;32mc:\\users\\monac\\documents\\github\\netrep\\netrep\\utils.py:51\u001b[0m, in \u001b[0;36malign\u001b[1;34m(X, Y, group)\u001b[0m\n\u001b[0;32m     22\u001b[0m \u001b[39m\u001b[39m\u001b[39m\"\"\"Return a matrix that optimally aligns 'X' to 'Y'. Note\u001b[39;00m\n\u001b[0;32m     23\u001b[0m \u001b[39mthat the optimal alignment is the same for either the\u001b[39;00m\n\u001b[0;32m     24\u001b[0m \u001b[39mangular distance or the Euclidean distance since all\u001b[39;00m\n\u001b[1;32m   (...)\u001b[0m\n\u001b[0;32m     47\u001b[0m \u001b[39m    by symmetry.\u001b[39;00m\n\u001b[0;32m     48\u001b[0m \u001b[39m\"\"\"\u001b[39;00m\n\u001b[0;32m     50\u001b[0m \u001b[39mif\u001b[39;00m group \u001b[39m==\u001b[39m \u001b[39m\"\u001b[39m\u001b[39morth\u001b[39m\u001b[39m\"\u001b[39m:\n\u001b[1;32m---> 51\u001b[0m     \u001b[39mreturn\u001b[39;00m orthogonal_procrustes(X, Y)[\u001b[39m0\u001b[39m]\n\u001b[0;32m     53\u001b[0m \u001b[39melif\u001b[39;00m group \u001b[39m==\u001b[39m \u001b[39m\"\u001b[39m\u001b[39mperm\u001b[39m\u001b[39m\"\u001b[39m:\n\u001b[0;32m     54\u001b[0m     ri, ci \u001b[39m=\u001b[39m linear_sum_assignment(X\u001b[39m.\u001b[39mT \u001b[39m@\u001b[39m Y, maximize\u001b[39m=\u001b[39m\u001b[39mTrue\u001b[39;00m)\n",
      "File \u001b[1;32mc:\\Users\\monac\\Documents\\GitHub\\RSA_Investigations\\env\\lib\\site-packages\\scipy\\linalg\\_procrustes.py:76\u001b[0m, in \u001b[0;36morthogonal_procrustes\u001b[1;34m(A, B, check_finite)\u001b[0m\n\u001b[0;32m     13\u001b[0m \u001b[39m\u001b[39m\u001b[39m\"\"\"\u001b[39;00m\n\u001b[0;32m     14\u001b[0m \u001b[39mCompute the matrix solution of the orthogonal Procrustes problem.\u001b[39;00m\n\u001b[0;32m     15\u001b[0m \n\u001b[1;32m   (...)\u001b[0m\n\u001b[0;32m     73\u001b[0m \n\u001b[0;32m     74\u001b[0m \u001b[39m\"\"\"\u001b[39;00m\n\u001b[0;32m     75\u001b[0m \u001b[39mif\u001b[39;00m check_finite:\n\u001b[1;32m---> 76\u001b[0m     A \u001b[39m=\u001b[39m np\u001b[39m.\u001b[39;49masarray_chkfinite(A)\n\u001b[0;32m     77\u001b[0m     B \u001b[39m=\u001b[39m np\u001b[39m.\u001b[39masarray_chkfinite(B)\n\u001b[0;32m     78\u001b[0m \u001b[39melse\u001b[39;00m:\n",
      "File \u001b[1;32mc:\\Users\\monac\\Documents\\GitHub\\RSA_Investigations\\env\\lib\\site-packages\\numpy\\lib\\function_base.py:628\u001b[0m, in \u001b[0;36masarray_chkfinite\u001b[1;34m(a, dtype, order)\u001b[0m\n\u001b[0;32m    626\u001b[0m a \u001b[39m=\u001b[39m asarray(a, dtype\u001b[39m=\u001b[39mdtype, order\u001b[39m=\u001b[39morder)\n\u001b[0;32m    627\u001b[0m \u001b[39mif\u001b[39;00m a\u001b[39m.\u001b[39mdtype\u001b[39m.\u001b[39mchar \u001b[39min\u001b[39;00m typecodes[\u001b[39m'\u001b[39m\u001b[39mAllFloat\u001b[39m\u001b[39m'\u001b[39m] \u001b[39mand\u001b[39;00m \u001b[39mnot\u001b[39;00m np\u001b[39m.\u001b[39misfinite(a)\u001b[39m.\u001b[39mall():\n\u001b[1;32m--> 628\u001b[0m     \u001b[39mraise\u001b[39;00m \u001b[39mValueError\u001b[39;00m(\n\u001b[0;32m    629\u001b[0m         \u001b[39m\"\u001b[39m\u001b[39marray must not contain infs or NaNs\u001b[39m\u001b[39m\"\u001b[39m)\n\u001b[0;32m    630\u001b[0m \u001b[39mreturn\u001b[39;00m a\n",
      "\u001b[1;31mValueError\u001b[0m: array must not contain infs or NaNs"
     ]
    }
   ],
   "source": [
    "# compute Wasserstein ground metric for alpha=(0, 1, 2)\n",
    "for alpha in (0, 1, 2):\n",
    "    distmat_w2 = np.zeros((3, 3))\n",
    "    metric = GaussianStochasticMetric(alpha)\n",
    "    for i,j in itertools.combinations(range(10), 2): # Meaning: compute the distance between each pair of networks\n",
    "        \n",
    "        # the fit method expects a list [means, covs]\n",
    "        Xi = (means[i], covs[i]) # Meaning: Xi is a tuple of the means and covariances of network i\n",
    "        Xj = (means[j], covs[j]) # Meaning: Xj is a tuple of the means and covariances of network j\n",
    "\n",
    "\n",
    "        metric.fit(Xi, Xj)\n",
    "        distmat_w2[i,j] = metric.score(Xi, Xj)\n",
    "\n",
    "        # My score printing code\n",
    "        print(f\"alpha {alpha}: Network {i+1} vs Network {j+1} -> score {distmat_w2[i,j]}\") # Meaning: print the pair of networks\n",
    "\n",
    "    # dist matrix is symmetric\n",
    "    distmat_w2 += distmat_w2.T\n",
    "    distmats_w2[alpha] = distmat_w2"
   ]
  },
  {
   "cell_type": "code",
   "execution_count": 56,
   "metadata": {},
   "outputs": [
    {
     "data": {
      "image/png": "[encoded data removed]",
      "text/plain": [
       "<Figure size 1000x400 with 3 Axes>"
      ]
     },
     "metadata": {},
     "output_type": "display_data"
    }
   ],
   "source": [
    "# plot the distmats\n",
    "titles = [r\"$\\mathcal{W}_2^{\\alpha=0}$\" \" (covariance only)\",\n",
    "          r\"$\\mathcal{W}_2^{\\alpha=1}$\" \" ($\\mathcal{W}_2$)\",\n",
    "          r\"$\\mathcal{W}_2^{\\alpha=2}$\" \" (mean only)\"]\n",
    "\n",
    "# All heatmaps share same colorbar limits\n",
    "_VMAX = max([distmats_w2[k].max() for k in distmats_w2])\n",
    "_VMIN = min([distmats_w2[k].min() for k in distmats_w2])\n",
    "\n",
    "fig, ax = plt.subplots(1, 3, figsize=(10, 4), sharex=\"all\", sharey=\"all\")\n",
    "\n",
    "for i, a in enumerate(distmats_w2.keys()):\n",
    "    im = ax[i].imshow(distmats_w2[a], vmin=_VMIN, vmax=_VMAX)\n",
    "    ax[i].set(title=titles[i])\n",
    "ax[0].set(xticklabels=[], yticklabels=[], xlabel=\"Network i\", ylabel=\"Network j\");\n",
    "# plt.colorbar()"
   ]
  }
 ],
 "metadata": {
  "kernelspec": {
   "display_name": "env",
   "language": "python",
   "name": "python3"
  },
  "language_info": {
   "codemirror_mode": {
    "name": "ipython",
    "version": 3
   },
   "file_extension": ".py",
   "mimetype": "text/x-python",
   "name": "python",
   "nbconvert_exporter": "python",
   "pygments_lexer": "ipython3",
   "version": "3.9.13"
  },
  "orig_nbformat": 4
 },
 "nbformat": 4,
 "nbformat_minor": 2
}

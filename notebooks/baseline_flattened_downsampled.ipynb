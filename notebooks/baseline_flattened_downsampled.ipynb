{
 "cells": [
  {
   "cell_type": "code",
   "execution_count": 2,
   "metadata": {},
   "outputs": [],
   "source": [
    "import os, sys; sys.path.append(os.path.abspath('../'))\n",
    "\n",
    "from inspector.rsa import ESM"
   ]
  },
  {
   "cell_type": "code",
   "execution_count": 3,
   "metadata": {},
   "outputs": [],
   "source": [
    "# Crawl the data directory\n",
    "import os\n",
    "data_dir = r'..\\data\\baseline'\n",
    "data_files = [os.path.join(data_dir, f) for f in os.listdir(data_dir) if f.endswith('.mat')]"
   ]
  },
  {
   "cell_type": "code",
   "execution_count": null,
   "metadata": {},
   "outputs": [],
   "source": [
    "samples = 2\n",
    "flattens = 10"
   ]
  },
  {
   "cell_type": "code",
   "execution_count": 4,
   "metadata": {},
   "outputs": [],
   "source": [
    "# loop over the files\n",
    "import scipy.io\n",
    "\n",
    "network_X = []\n",
    "network_y = []\n",
    "\n",
    "for f in data_files[:3]:\n",
    "    data = scipy.io.loadmat(f)\n",
    "    test_x = data['test_x']\n",
    "    test_out = data['test_out']\n",
    "\n",
    "    network_X.append(test_x)\n",
    "    network_y.append(test_out)"
   ]
  },
  {
   "cell_type": "code",
   "execution_count": 5,
   "metadata": {},
   "outputs": [
    {
     "data": {
      "text/plain": [
       "(3, 3)"
      ]
     },
     "execution_count": 5,
     "metadata": {},
     "output_type": "execute_result"
    }
   ],
   "source": [
    "len(network_X), len(network_y)"
   ]
  },
  {
   "cell_type": "code",
   "execution_count": 6,
   "metadata": {},
   "outputs": [
    {
     "data": {
      "text/plain": [
       "((4, 50, 200, 300), (4, 50, 300))"
      ]
     },
     "execution_count": 6,
     "metadata": {},
     "output_type": "execute_result"
    }
   ],
   "source": [
    "network_X[0].shape, network_y[0].shape"
   ]
  },
  {
   "cell_type": "code",
   "execution_count": 7,
   "metadata": {},
   "outputs": [
    {
     "data": {
      "text/plain": [
       "((4, 50, 200, 300), (4, 50, 300))"
      ]
     },
     "execution_count": 7,
     "metadata": {},
     "output_type": "execute_result"
    }
   ],
   "source": [
    "network_X[1].shape, network_y[1].shape"
   ]
  },
  {
   "cell_type": "code",
   "execution_count": 15,
   "metadata": {},
   "outputs": [],
   "source": [
    "x_1 = network_X[0]\n",
    "x_2 = network_X[1]\n",
    "x_3 = network_X[2]"
   ]
  },
  {
   "attachments": {},
   "cell_type": "markdown",
   "metadata": {},
   "source": [
    "# F.atten the neurons and timesteps"
   ]
  },
  {
   "cell_type": "code",
   "execution_count": 16,
   "metadata": {},
   "outputs": [],
   "source": [
    "import numpy as np\n",
    "\n",
    "# Assuming X1 and X2 are RNN models of shape (4, 50, 200, 300)\n",
    "# Flatten the time steps and neuron dimensions of each RNN model\n",
    "X1_flat = np.reshape(x_1, (x_1.shape[0], x_1.shape[1], -1))\n",
    "X2_flat = np.reshape(x_2, (x_2.shape[0], x_2.shape[1], -1))\n",
    "X3_flat = np.reshape(x_3, (x_3.shape[0], x_3.shape[1], -1))"
   ]
  },
  {
   "cell_type": "code",
   "execution_count": 17,
   "metadata": {},
   "outputs": [],
   "source": [
    "# slice only the first samples\n",
    "X1_flat = X1_flat[:,:samples,:flattens]\n",
    "X2_flat = X2_flat[:,:samples,:flattens]\n",
    "X3_flat = X3_flat[:,:samples,:flattens]"
   ]
  },
  {
   "cell_type": "code",
   "execution_count": 18,
   "metadata": {},
   "outputs": [
    {
     "name": "stdout",
     "output_type": "stream",
     "text": [
      "(4, 2, 10) (4, 2, 10) (4, 2, 10)\n"
     ]
    }
   ],
   "source": [
    "print(X1_flat.shape, X2_flat.shape, X3_flat.shape)"
   ]
  },
  {
   "cell_type": "code",
   "execution_count": 19,
   "metadata": {},
   "outputs": [
    {
     "name": "stderr",
     "output_type": "stream",
     "text": [
      "100%|██████████| 3/3 [00:00<00:00, 1495.47it/s]\n"
     ]
    }
   ],
   "source": [
    "netrep_metric = ESM(verbose = True)\n",
    "ingestion_report = netrep_metric.ingest([X1_flat, X2_flat, X3_flat], None, preprcessed = True)\n",
    "energy_distance = netrep_metric.score()"
   ]
  },
  {
   "cell_type": "code",
   "execution_count": 20,
   "metadata": {},
   "outputs": [],
   "source": [
    "import seaborn as sns\n",
    "\n",
    "def plot_distmat(distmat, title = \"Distance Metric\", out_path = None):\n",
    "    '''Plot a distance matrix\n",
    "    New method uses Seaborn to create a heatmap\n",
    "    '''\n",
    "\n",
    "    # Set the x and y ticks to the labels\n",
    "    number_of_networks = len(distmat[0])\n",
    "    labels = [f\"Network {i+1}\" for i in range(number_of_networks)]\n",
    "\n",
    "    # Plot the heatmap using Seaborn\n",
    "    ax = sns.heatmap(distmat, cmap='coolwarm', annot=True, fmt=\".3f\",\n",
    "                     xticklabels=labels, yticklabels=labels, cbar_kws={'label': 'Distance'})\n",
    "    ax.set_title(title)\n",
    "\n",
    "    if out_path is not None:\n",
    "        ax.figure.savefig(out_path)\n",
    "    else:\n",
    "        # Show the plot\n",
    "        ax.show()"
   ]
  },
  {
   "cell_type": "code",
   "execution_count": null,
   "metadata": {},
   "outputs": [],
   "source": [
    "# save the distance matrix\n",
    "# np.save('./outputs/baseline_flattened_3_nets_2_samples.npy', energy_distance)"
   ]
  }
 ],
 "metadata": {
  "kernelspec": {
   "display_name": "env",
   "language": "python",
   "name": "python3"
  },
  "language_info": {
   "codemirror_mode": {
    "name": "ipython",
    "version": 3
   },
   "file_extension": ".py",
   "mimetype": "text/x-python",
   "name": "python",
   "nbconvert_exporter": "python",
   "pygments_lexer": "ipython3",
   "version": "3.9.13"
  },
  "orig_nbformat": 4
 },
 "nbformat": 4,
 "nbformat_minor": 2
}
